{
  "nbformat": 4,
  "nbformat_minor": 0,
  "metadata": {
    "colab": {
      "provenance": [],
      "mount_file_id": "18ZYN8z1BUnpJ7XSS8FbwSvgRat9XbRr6",
      "authorship_tag": "ABX9TyMg/Ax1kqv6gH3TxeLKjJmU",
      "include_colab_link": true
    },
    "kernelspec": {
      "name": "python3",
      "display_name": "Python 3"
    },
    "language_info": {
      "name": "python"
    },
    "gpuClass": "standard"
  },
  "cells": [
    {
      "cell_type": "markdown",
      "metadata": {
        "id": "view-in-github",
        "colab_type": "text"
      },
      "source": [
        "<a href=\"https://colab.research.google.com/github/AAKAAASSHHH24/NLP-BASICS/blob/main/Sentiment_analysis_BiRNN.ipynb\" target=\"_parent\"><img src=\"https://colab.research.google.com/assets/colab-badge.svg\" alt=\"Open In Colab\"/></a>"
      ]
    },
    {
      "cell_type": "code",
      "execution_count": 1,
      "metadata": {
        "id": "i-dM1ilFUkCB"
      },
      "outputs": [],
      "source": [
        "import os\n",
        "ROOT = \"/content/drive/MyDrive/projects/NLP\"\n",
        "os.chdir(ROOT)``"
      ]
    },
    {
      "cell_type": "code",
      "source": [
        "import tensorflow as tf\n",
        "import numpy as np\n",
        "import tensorflow_datasets as tfds\n",
        "import matplotlib.pyplot as plt"
      ],
      "metadata": {
        "id": "15pbrC9iVSgQ"
      },
      "execution_count": 3,
      "outputs": []
    },
    {
      "cell_type": "code",
      "source": [
        "dataset_name = 'imdb_reviews'\n",
        "dataset, info = tfds.load(dataset_name, with_info = True, as_supervised = True )"
      ],
      "metadata": {
        "id": "tC-godKSVwhT"
      },
      "execution_count": 7,
      "outputs": []
    },
    {
      "cell_type": "code",
      "source": [
        "dataset.keys()"
      ],
      "metadata": {
        "colab": {
          "base_uri": "https://localhost:8080/"
        },
        "id": "ZL9d4ZjJWVHb",
        "outputId": "72e97b1d-33ba-4d7f-86d5-0a929ac7c3c1"
      },
      "execution_count": 8,
      "outputs": [
        {
          "output_type": "execute_result",
          "data": {
            "text/plain": [
              "dict_keys(['train', 'test', 'unsupervised'])"
            ]
          },
          "metadata": {},
          "execution_count": 8
        }
      ]
    },
    {
      "cell_type": "code",
      "source": [
        "info"
      ],
      "metadata": {
        "colab": {
          "base_uri": "https://localhost:8080/"
        },
        "id": "iOo113Y6YOfT",
        "outputId": "b277069b-522e-4e10-8a7d-6af0843130d1"
      },
      "execution_count": 9,
      "outputs": [
        {
          "output_type": "execute_result",
          "data": {
            "text/plain": [
              "tfds.core.DatasetInfo(\n",
              "    name='imdb_reviews',\n",
              "    full_name='imdb_reviews/plain_text/1.0.0',\n",
              "    description=\"\"\"\n",
              "    Large Movie Review Dataset.\n",
              "    This is a dataset for binary sentiment classification containing substantially more data than previous benchmark datasets. We provide a set of 25,000 highly polar movie reviews for training, and 25,000 for testing. There is additional unlabeled data for use as well.\n",
              "    \"\"\",\n",
              "    config_description=\"\"\"\n",
              "    Plain text\n",
              "    \"\"\",\n",
              "    homepage='http://ai.stanford.edu/~amaas/data/sentiment/',\n",
              "    data_path='~/tensorflow_datasets/imdb_reviews/plain_text/1.0.0',\n",
              "    file_format=tfrecord,\n",
              "    download_size=80.23 MiB,\n",
              "    dataset_size=129.83 MiB,\n",
              "    features=FeaturesDict({\n",
              "        'label': ClassLabel(shape=(), dtype=tf.int64, num_classes=2),\n",
              "        'text': Text(shape=(), dtype=tf.string),\n",
              "    }),\n",
              "    supervised_keys=('text', 'label'),\n",
              "    disable_shuffling=False,\n",
              "    splits={\n",
              "        'test': <SplitInfo num_examples=25000, num_shards=1>,\n",
              "        'train': <SplitInfo num_examples=25000, num_shards=1>,\n",
              "        'unsupervised': <SplitInfo num_examples=50000, num_shards=1>,\n",
              "    },\n",
              "    citation=\"\"\"@InProceedings{maas-EtAl:2011:ACL-HLT2011,\n",
              "      author    = {Maas, Andrew L.  and  Daly, Raymond E.  and  Pham, Peter T.  and  Huang, Dan  and  Ng, Andrew Y.  and  Potts, Christopher},\n",
              "      title     = {Learning Word Vectors for Sentiment Analysis},\n",
              "      booktitle = {Proceedings of the 49th Annual Meeting of the Association for Computational Linguistics: Human Language Technologies},\n",
              "      month     = {June},\n",
              "      year      = {2011},\n",
              "      address   = {Portland, Oregon, USA},\n",
              "      publisher = {Association for Computational Linguistics},\n",
              "      pages     = {142--150},\n",
              "      url       = {http://www.aclweb.org/anthology/P11-1015}\n",
              "    }\"\"\",\n",
              ")"
            ]
          },
          "metadata": {},
          "execution_count": 9
        }
      ]
    },
    {
      "cell_type": "code",
      "source": [
        "train_ds, test_ds = dataset['train'], dataset['test']"
      ],
      "metadata": {
        "id": "dCOCN2cpYu7W"
      },
      "execution_count": 10,
      "outputs": []
    },
    {
      "cell_type": "code",
      "source": [
        "for example, label in train_ds.take(3):\n",
        "  print(f\"sample_text:\\n{example.numpy()} \\n\", f\"label:\\n{label} \\n\")\n"
      ],
      "metadata": {
        "colab": {
          "base_uri": "https://localhost:8080/"
        },
        "id": "4XF802tnZF_X",
        "outputId": "4b42e5b7-3622-45c5-9cf1-ee560aa026bb"
      },
      "execution_count": 12,
      "outputs": [
        {
          "output_type": "stream",
          "name": "stdout",
          "text": [
            "sample_text:\n",
            "b\"This was an absolutely terrible movie. Don't be lured in by Christopher Walken or Michael Ironside. Both are great actors, but this must simply be their worst role in history. Even their great acting could not redeem this movie's ridiculous storyline. This movie is an early nineties US propaganda piece. The most pathetic scenes were those when the Columbian rebels were making their cases for revolutions. Maria Conchita Alonso appeared phony, and her pseudo-love affair with Walken was nothing but a pathetic emotional plug in a movie that was devoid of any real meaning. I am disappointed that there are movies like this, ruining actor's like Christopher Walken's good name. I could barely sit through it.\" \n",
            " label:\n",
            "0 \n",
            "\n",
            "sample_text:\n",
            "b'I have been known to fall asleep during films, but this is usually due to a combination of things including, really tired, being warm and comfortable on the sette and having just eaten a lot. However on this occasion I fell asleep because the film was rubbish. The plot development was constant. Constantly slow and boring. Things seemed to happen, but with no explanation of what was causing them or why. I admit, I may have missed part of the film, but i watched the majority of it and everything just seemed to happen of its own accord without any real concern for anything else. I cant recommend this film at all.' \n",
            " label:\n",
            "0 \n",
            "\n",
            "sample_text:\n",
            "b'Mann photographs the Alberta Rocky Mountains in a superb fashion, and Jimmy Stewart and Walter Brennan give enjoyable performances as they always seem to do. <br /><br />But come on Hollywood - a Mountie telling the people of Dawson City, Yukon to elect themselves a marshal (yes a marshal!) and to enforce the law themselves, then gunfighters battling it out on the streets for control of the town? <br /><br />Nothing even remotely resembling that happened on the Canadian side of the border during the Klondike gold rush. Mr. Mann and company appear to have mistaken Dawson City for Deadwood, the Canadian North for the American Wild West.<br /><br />Canadian viewers be prepared for a Reefer Madness type of enjoyable howl with this ludicrous plot, or, to shake your head in disgust.' \n",
            " label:\n",
            "0 \n",
            "\n"
          ]
        }
      ]
    },
    {
      "cell_type": "code",
      "source": [
        "class Config:\n",
        "  BUFFER_SIZE = 10000\n",
        "  BATCH_SIZE = 64\n",
        "  VOCAB_SIZE = 1000\n",
        "  OUTPUT_DIM = 64\n",
        "  EPOCHS = 10\n",
        "  BASE_LOG_DIR = \"base_log_dir\"\n",
        "  TRAINED_MODEL_DIR = os.path.join(BASE_LOG_DIR, \"models\")\n",
        "  CHECKPOINT_DIR = os.path.join(BASE_LOG_DIR, \"ckpt\")\n",
        "  TB_ROOT_LOG_DIR = os.path.join(BASE_LOG_DIR, \"tb_log_dir\")\n"
      ],
      "metadata": {
        "id": "iEdC3CXyaHwF"
      },
      "execution_count": 13,
      "outputs": []
    },
    {
      "cell_type": "code",
      "source": [
        "# SHUFFLE AND BATCH THE TRAIN DATASET\n",
        " \n",
        "train_ds = train_ds.shuffle(Config.BUFFER_SIZE).batch(Config.BATCH_SIZE).prefetch(tf.data.experimental.AUTOTUNE)  #autotune based on configuration\n",
        "test_ds = test_ds.batch(Config.BATCH_SIZE).prefetch(tf.data.experimental.AUTOTUNE)  # dont need to shuffle here"
      ],
      "metadata": {
        "id": "iMBUx7zcb7Hp"
      },
      "execution_count": 14,
      "outputs": []
    },
    {
      "cell_type": "code",
      "source": [
        "for example, label in train_ds.take(1):\n",
        "  print(f\"sample_text:\\n{example.numpy()} \\n\", f\"label:\\n{label} \\n\")\n",
        "  print(f\"label:\\n{len(label.numpy())} \\n\")\n"
      ],
      "metadata": {
        "colab": {
          "base_uri": "https://localhost:8080/"
        },
        "id": "zOeRZGXjol_Z",
        "outputId": "049a536d-18f8-421a-fc00-a819b3eb8b6f"
      },
      "execution_count": 16,
      "outputs": [
        {
          "output_type": "stream",
          "name": "stdout",
          "text": [
            "sample_text:\n",
            "[b\"The original Lensman series of novels is a classic of the genre. It's pure adventure SF with some substance (here and there) and I've always wondered why Hollywood hasn't filmed it verbatim because it's just the kind of thing they love: massive explosions, super-weapons, uber-heroics, hero gets the girl, aliens (great CGI potential), good versus evil in the purest form, etc etc. Instead (and bear in mind I'm a Japan-o-phile and anime lover) we get this horrendous kiddies movie that rips the guts out of the story, mixes in Star-Wars (ironic as the latter ripped off the books occasionally) pastiches and dumbs the whole thing down to 'Thundercats' level. To see Kimball Kinnison, the epitome of the Galactic Patrol officer and second stage Lensman portrayed as a small boy is pitiful (etc). I just can't understand why the makers did this because they obviously had the rights to the story and could have made far more money (FAR!) by telling straight. It makes no sense.\"\n",
            " b'Im watching it now on pink (Serbia TV station) and I must say this is a crap. Shallow, no acting, effects too sloppy I mean, who made this series?<br /><br />This was a stupid attempt of the Studios to make some more money on the success of the film. OK. The film was great in 1994 when it came out. But the series?<br /><br />Some times you can see how idiotic the lines are in the speech of the characters. I mean, did they actually pay someone to write that, was that someones relative at the Studio? This is no SciFi.<br /><br />The film was the bomb, the series suck.'\n",
            " b'A patchwork about 911. The 11 stories from 11 directors from 11 countries are sometimes humoristic, sometimes boring (the first one, for example), sometimes used to say to Americans \"we have had more deaths than you, and you supported the murderers\", sometimes really weird (but highly symbolic and interesting). I really loved the Claude Lelouch (personal live of a couple in New-York, showing that our day-to-day \"problems\" are unimportant), Shoei Imamura (bizarre, strongly anti-wars in general), and Idrissa Ouedraogo (funny, typical African optimism despite terrible day to day misery), and Youssef Chahine (an Egyptian intellectual, pro-peace, having moral difficulties to accept the U.S. policy towards Arab countries) I am really pleased to see that many Americans liked this movie. It shows that we (or they ? I am still Belgian, but living in Texas for 12 years) are still interested by other cultures, and able to question past and present actions of our government, like we should in a democracy.'\n",
            " b'Every once in a long while a movie will come along that will be so awful that I feel compelled to warn people. If I labor all my days and I can save but one soul from watching this movie, how great will be my joy.<br /><br />Where to begin my discussion of pain. For starters, there was a musical montage every five minutes. There was no character development. Every character was a stereotype. We had swearing guy, fat guy who eats donuts, goofy foreign guy, etc. The script felt as if it were being written as the movie was being shot. The production value was so incredibly low that it felt like I was watching a junior high video presentation. Have the directors, producers, etc. ever even seen a movie before? Halestorm is getting worse and worse with every new entry. The concept for this movie sounded so funny. How could you go wrong with Gary Coleman and a handful of somewhat legitimate actors. But trust me when I say this, things went wrong, VERY WRONG.'\n",
            " b'Laughs, adventure, a good time, a killer soundtrack, oscar-worthy acting, and special effects/ animitronics like none other, what else could you want in a movie? If you see this will be on the telly, WATCH IT, otherwise, run out now to RENT IT!!!'\n",
            " b'An excellent example of \"cowboy noir\", as it\\'s been called, in which unemployed Michael (Nicolas Cage) loses out on a job because he insists on being honest (he\\'s got a bum leg). With really nothing else he can do, he decides that for once he\\'s going to lie. When he walks into a bar, and the owner Wayne (the late, great J.T. Walsh) mistakes him for a hit-man whom Wayne has hired to do in his sexy young wife Suzanne (Lara Flynn Boyle in fine form), Michael plays along and accepts Waynes\\' money. *Then* he goes to Suzanne and informs her of her husbands\\' intentions, and accepts *her* money to get rid of Wayne! If that didn\\'t complicate things enough, the real hit-man, \"Lyle from Dallas\" (Dennis Hopper, in a perfect role for him) shows up and Michael is in even more trouble than before.<br /><br />\"Red Rock West\" gets a lot out of the locations. Director John Dahl, who co-wrote the script with his brother Rick, was smart in realizing the potential of a story set in a truly isolated small town that may have seen better days and in which the residents could be involved in any manner of schemes. It\\'s also an amusing idea of the kind of trouble an honest person could get into if they decided to abandon their principles and give in to any level of temptation. It\\'s an appreciably dark and twist-laden story with an assortment of main characters that are if not corrupt, have at least been morally compromised like Michael. The lighting by cinematographer Marc Reshovsky is superb in its moodiness; even the climax set in a graveyard lends a nice morbid quality to the whole thing. Even if the writing isn\\'t particularly \"logical or credible\", the film has a nice way of intriguing the viewer and just drawing them right in.<br /><br />Cage does a good job in the lead, but his co-stars have a grand old time sinking their teeth into their meaty and greed-motivated characters. Hopper, Boyle, and Walsh are all fun to watch in these parts. Timothy Carhart and Dan Shor are fine as Walshs\\' deputies (in one especially good twist, Walsh is also the local sheriff), and there\\'s an entertaining cameo role for country & western star Dwight Yoakam, who also graces the film with an enjoyable end credits tune.<br /><br />It\\'s quite a good little film worth checking out. It moves forward at an impressive pace, and if nothing else is certainly never boring.<br /><br />8/10'\n",
            " b'The Good Earth is a great movie!!!Everybody must see...It is tear-jerking and very heart warming. It caters to the enhancement of values-formation on perseverance, humility and the love of family...The story can be related to our life today especially that poverty is at the threshold. The way on how we respond to such problem is very crucial and if a person is not strong enough to face such, he may be left defenseless and useless. I am very pleased on how the characters justified their roles even the young actors...Their emotions has captivated the audience. The movie may have been done in black and white, but the story is so captivating that you do not want to end. That makes it really great! There should be a re-make for this very nice movie.'\n",
            " b'Thanks to Kevin Smith, a bunch of geeks are running around saying that Return of the Jedi isn\\'t any good because it\\'s actually fun to watch. And oh no! Muppets are involved! That makes it bad! Everyone liked Return of the Jedi until someone in a Kevin Smith movie made a negative comment about it. Now all of a sudden people people look at you like you have some kind of disease if you mention how much you like it. This movie is so much better than anything Kevin Smith ever even considered creating that it boggles my mind that the man would even think of denouncing it. This movie is good fun! It\\'s just as awesome as I remember it being when I was six! Enjoy this movie for what it is and stop stealing Kevin Smith\\'s opinions! His aren\\'t correct!<br /><br />And that Ewok song at the end ruled! I bet you people don\\'t even enjoy \"Ewoks: Battle for Endor\"!!!! I\\'m going to set you all on fire!'\n",
            " b'This movie does a great job of explaining the problems that we faced and the fears that we had before we put man into space. As a history of space flight, it is still used today in classrooms that can get one of the rare prints of it. Disney has shown it on \"Vault Disney\" and I wish they would do so again.'\n",
            " b\"I see where a few people involved in this debacle wrote reviews to share their side of the story, and I thought what they wrote was helpful in understanding it. The fact that they basically came up with excuses -- rewrites, budget constraints, production formats etc -- simply underlines how bad this movie is. And my criticisms in panning it are not personally directed but simply a warning that this one doesn't make the cut.<br /><br />It's watchable, but barely so. There are plot holes in every corner, the dialogue borders on the ridiculous, and the ending is telegraphed a mile away. The modestly interesting feature of a hologram interacting with a recon team get drowned in silly dialogue like who makes a meal in the midst of what is supposed to be a tense and deadly encounter with an unknown enemy. Would ya wrassle us up some Hamburger Helper Sally, between us getting killed by these automated carpet sweepers? Apparently this elite team equipped with the latest gizmos and red plastic tubed wonder armor has no access to MREs. Once they get into the last rooms they treat the place more like a four star motel than a deadly encounter zone.<br /><br />The rationale for the encounter with the fearsome Rook is that it can't be killed single handedly. Yet only one scene ago, the hero making that case abandoned King to do exactly that. Huh? Vivian Woo was attractive and hands down the best acted character in the movie. But that's not saying much.\"\n",
            " b\"I've always enjoyed seeing Chuck Norris in film. Although the acting may not be superb, the fight scenes are fantastic. I also enjoyed seeing Judson Mills perform along side him. In my opinion, the Norris Brothers have proven themselves to be fine entertainers and this was yet another fine production! I hope you take the time to view this movie!\"\n",
            " b'There is a certain genius behind this movie. I was laughing throughout. The scene in the phone sex office, discussing how love heals the doppelganger was a nice attempt at this genius/humor. Execution is poor, but you can see the writer\\'s message and they do have some talent. The doppelganger split at the end was like... \"ok, wasn\\'t quite expecting that but let\\'s see what the movie has to say\". Certainly ridiculous, but a sweet idea and actually very coherent to the story in a strange way.<br /><br />Is the point of a movie to be logical or is it to be entertaining or communicate on an emotional level? i\\'m easily bored by many movies, but this one kept my interest throughout.<br /><br />I think the story may have some auto-biographical roots, but that\\'s just a guess. Horribly bad, but good. I\\'m looking for other movies this person may have done (with more experience).'\n",
            " b'I get the feeling that the producers of this mess were out to make the most painful, ridiculous Western ever made. \"PAINFUL\" is the best word I can think of to describe it.<br /><br />On the plus side you have nice color photography and beautiful and well-spoken Rhonda Fleming. My sympathy goes to Jacques Aubuchon (who played the cripple), who acted well enough in an annoying role, written so atrociously that no actor could give an enjoyable performance. The production values were quite good, which only served to highlight the terrible story and screenplay.<br /><br />Things I hated: Stewart Granger looked so little like a western figure, what with his British accent, neat tailored outfit, and silly immaculate always-white kerchief tied around his neck. It got tiresome the way the townspeople and his son were constantly haranguing and insulting Granger, and he never spoke up or replied back. I know we are supposed to suspend disbelief and appreciate Westerns as symbolic morality plays, but this one broke the spell with it laughably unrealistic and predictable scenes, the worst being at the end where Granger miraculously, speedily and single-handedly plants dynamite around a canyon pass that the bad guy\\'s cattle will pass through, and then Granger plants himself in the perfect spot so he can shoot the dynamite from a very far distance to create rock slides to bury and spook the cattle and bad guys, seemingly destroying them all, save the two main bad guys. Next worst is everything about the plot, which is loaded with soap opera scenes. Nothing in the movie seemed believable: I couldn\\'t believe what all the conflict was about. The bad guy was driving his herd through to market and wanted the cows to chew some grass along the way; I don\\'t see why something couldn\\'t have been worked out. You need a land ownership dispute for that? Don\\'t bother to see it.'\n",
            " b'Cosimo (Luis Guzman) ends up in prison for car burglary and there he\\'s given the plan for the perfect heist from a lifer in prison; so he has to get out of jail, fast. He tells his girlfriend Rosalind (Patricia Clarkson) to find a man who will do his time in prison for some money. But no one wants to do the time for Cosimo\\'s crime and yet everybody seems to know a guy who will do that. Soon bad boxer Pero Mahalovic (Sam Rockwell) founds out the details of this so called \"perfect job\".<br /><br />First of all, I think this movie was very funny and from my point of view I would recommend it to everyone. This movie is remake of Italian comedy \"I Soliti Ignoti\". I didn\\'t watch the Italian original so I cannot judge or compare those two movies. But \"Welcome to Collinwood\" is great comedy for itself, about four people trying to rob the money from the vault in one house. Everyone gave their part of brilliance from this movie cast. Really excellent movie for these actors: Sam Rockwell, William H. Macy (great), Isaiah Washington, Michael Jeter (great), Luis Guzm\\xc3\\xa1n, Patricia Clarkson, Jennifer Esposito and finally George Clooney gave their share in this project. <br /><br />Maybe to say that this movie is only comedy, isn\\'t fair. This is more then that. Because of one difference. All of thieves in this movie have very small wishes when they are asked: what will they do with their money? It is mostly securing their future in very humble way. This fact goes beyond comedy into the soul of that criminals. And not only them but also cop Babitch, who is presented like corrupted one; so here directors Russo presents us fact that criminals and cop are the same. Actually all in Collinwood are; and not only in Collinwood, cause all people chase money, on legal or illegal way. I don\\'t like all movies were audience eventually likes and cheers for thieves. But, this one is exception. You have to love them all. Riley with his little baby and wife in jail. Toto with his pants. Cosimo with his line: \"Your mother\\'s a whore!\" and all others. They are just like characters in my favorite comic, Alan Ford. They all trying to make some money, but simply they are out of luck. But they all did one good deed: they gave money to Riley, so he can get his wife out of prison. They are all heroes in my eyes, cause lots of \"honest\" people wouldn\\'t do that.'\n",
            " b'Possible SPOILERS: Not Sure<br /><br />While watching The Lion King 1 1/2, I couldn\\'t help but have mixed feelings about the whole film. It is definitely a good way to spend about an hour and 15 minutes. But there is nothing about it that would give you the same sort of feeling that The Lion King did. The story, for those who haven\\'t read the other reviews, is about how Timon and Pumbaa meet, and how they affect events in the original Lion King.<br /><br />There are actually some very funny jokes in the movie. My favorite part is when they show the pair raising Simba. However, for me the worst parts have to be when they show Timon and Pumbaa directly interfering with the events of the original. I can never look at the \"Circle of Life\" or \"Can You Feel the Love Tonight\" sequences the same way again (I\\'m okay with the \"I Just Can\\'t Wait to be King\" sequence).<br /><br />The voice talents are excellent. Nathan Lane and Ernie Sabella do a wonderful job, as do Matthew Broderick, the guy who does Rafiki, and the hyenas. Even the actor who does young Simba sounded enough like Jonathon Taylor Thomas for me. But why did they even include a voice actor for Zazu? He literally had only 2 lines, and neither were very necessary. The additions of Julie Kavner and Jerry Stiller only add to the talent, although you still can\\'t hear Timon\\'s Mom\\'s voice and not think of Marge Simpson.<br /><br />There are some scenes that seem to not fit in with the original, the one coming to mind being when they are pride rock at the end. How did they have time to fit in the initial fight with the hyenas?<br /><br />As for the DVD itself, you can\\'t help but feel that for a 2 disc set, the special features are especially lacking. They could have easily fit a commentary, or another aspect ratio on the 1st disc. I enjoyed the \"Who Wants to be King of the Jungle\" game, even if it is the most shameful example of cross promotion I\\'ve ever seen. Some of the questions are actually difficult.<br /><br />Overall, a good movie, though not nearly as good as TLK or even TLK2.'\n",
            " b'For those of you unfamiliar with Jimmy Stewart, this is one of his \"lesser\" films from later in his career. And, while it isn\\'t a great film compared to many of his other pictures, it isn\\'t bad and is a decent time-passer--but not much more.<br /><br />Kim Novak is a witch in New York City and for some inexplicable reason, she decides to cast a spell on poor Jimmy to make him fall in love with her. Over time, the cold and detached Ms. Novak also begins to fall in love with Stewart--and apparently in the witch\\'s rule book, this is a definite NO, NO!! <br /><br />The film is odd in its sensibilities about the witches. They are neither the baby-sacrificing nor the all-powerful variety. Most of their magic is pretty limited and pointless (such as Jack Lemmon using his powers to turn off street lamps). And, very oddly, the witches all seem to be bohemians who hang out in hip bars where you might find people wearing berets and listening to crappy jazz. Considering what I think of jazz, it must really stink to be a witch in this movie\\'s world!<br /><br />Anyway, the film is pretty romantic and mildly comedic, but not something I would rush out to watch. The acting is pretty good, but the script doesn\\'t offer enough payoff to make this an exceptional film--in fact, I almost scored the film a 6--it was really close.'\n",
            " b'This movie probably had some potential for something; my bewilderment is how these utterly prosaic unfunny themes keep making it to theaters, it\\'s as if ideas are being recycled just because generations are. Truly the decerebrate oafs behind most films are like dogs, they return to ingest their own vomit. Well, they\\'re 19 bucks richer now because of me. This was not at all imaginative, there was no redeeming moment, anything remotely funny was shown in the trailer (and nothing amusing was in the trailer), performances were strained (especially Molly\\'s, totally unconvincing). What was theoretically supposed to be some comic relief was the homoerotic friend with a penchant for Disney films; none of his analogies hit home, his little moral speeches were flat, I was literally waiting for them to go on to say something meaningful, only to find out he was done. The so-called \"hard 10\" is the most insipid plastic creature there is (apart from having a horse-like face with a weird smile); I honestly found her friend Patty (referred to as the Hamburglar) to be much better looking than her. But then again, gentlemen prefer brunettes ;) Well, anyway, the whole premise is that society is superficial and if love is true it transcends all social facades; the way they showed this, with a dude shaving another\\'s scrotum and the million-times-mutilated-and-beaten-to-death-horse premature ejaculation routine (with obvious allusions to American Pie and Happiness - the latter in the disgusting scene denouement involving the family dog). I feel as if the movie was like adjoining ridiculous jokes into an unformed wretched ball of raw sewage. Goes to show marketing can push anything out there, shine whatever fetid mass and call it gold, people will come (worked for me). Done with tirade.'\n",
            " b\"It has its merit's; Morvern Callar is both the merits and the disappointments. She's so enigmatic, so original. Is it her method of dealing with the pain of a lost one that's making her so distant and un-relatable? Or is she as one reviewer called her a revolutionary? Personally I'd call her dysfunctional.<br /><br />Morvern is completely detaching herself. Disposing of her boyfriend, not thinking of informing family or using the money he gave her for a proper funeral, she selfishly splashes out on a trip to Spain. She's seems so devoid of anything relatively human bar greed. The only element that enables the audience see the human side of her is her close friend she takes on holiday with her. Although by the end her friend is dumped and Morvern has nothing that ties her down to humanity. She may as well have killed herself.<br /><br />Despite managing to make Spain look as gloomy and bland as the UK the director's shots were superb, the lighting and color made the film visually stunning.<br /><br />It's really a shame the movie has nothing in it that keeps interest. It's little over 90 minutes but feels a lot longer. They manage to make Morvern seem interesting to grab your attention but do nothing with her only alienate her from you more to the point where you don't care about the characters or the film.\"\n",
            " b\"It is a pity that you cannot vote zero stars on IMDb, because I would not have hesitated! In fact I would go so far as to say that this film was in the negative stars. <br /><br />I, like many others, bought this film thinking that because it has Michael Madsen in it, it could be good... No chance! This film was shocking! Imagine a movie length 'The Bold and the Beautiful', well, Primal Instinct did not even come close to that good, and I had previously thought that there would be nothing worse than a movie length 'The Bold and the Beautiful'. <br /><br />Michael Madsen, how could you do this to us? The worst part is, I didn't fast forward a bit, I was hoping that at the end they would reveal that it was all some sort of sick joke, that they thought it would be funny to make us watch such a horribly bad film.<br /><br />Where do I start...? Directing - Zero Stars, Screenplay - Zero Stars, Acting - Zero Stars, Cinematography - Zero Stars, Digital Effects - Zero Stars, Production Design - Zero Stars, Make-up - Zero Stars, Casting - Zero Stars, Editing - Zero Stars, Trailer - Half a Star, Graphic Design - Half a Star, DVD Menu - Half a Star.<br /><br />However I think that it is very important to have seen bad films just so that you know what a really bad film is, so for that reason I am happy that I saw this film, just so that I have a bad film to put at the bottom of my list.\"\n",
            " b'When this movie was first shown on television I had high hopes that we would finally have a decent movie about World War I as experienced by American soldiers. Unfortunately this is not it.<br /><br />It should have been a good movie about WWI. Even though it was made for television it is obvious that a real effort was made to use appropriate equipment and props. But the writing and directing are badly lacking, even though the makers of this movie obviously borrowed freely from quite a few well made war movies. War movie clich\\xc3\\xa9s abound such as the arrogant general who apparently does not care a flip about the lives of his men. When will Hollywood realize that, even though there have been plenty of bad generals, most combat unit generals have seen plenty of combat themselves and are not naive about what the average grunt experiences? The first part of this movie appeared to be \"Paths of Glory\" with American uniforms. Except that \"Paths of Glory\" was emotionally gripping. Later on there was Chamberlain\\'s charge (except uphill) from \"Gettysburg\" and even the capture of the American soldier by a ring of enemy soldiers from \"The Thin Red Line\". But in \"The Thin Red Line\" the soldier was alone when captured. In this movie a ring forms around the new prisoner in the middle of a battle.<br /><br />If this movie used a military adviser they ignored him. Even though the actors (and I never could forget they were actors while watching) mouthed military tactics I didn\\'t see very much of it. The American soldiers would stand up to be shot while the Germans attacked. And the infamous Storm Troopers, who were apparently blind, appeared to use no tactics whatsoever in their attack. In the real war, the tactics were what made storm troopers so effective. But the silliest scene was the attack of the German Flamethrowers. In this scene the German flamethrower operators walked in a broad line towards the defending Americans. If that had been real they would never have gotten close enough to use their flamethrowers before they had all been dropped by the defender\\'s bullets.<br /><br />Okay, so most war movies are unrealistic when it comes to the tactics shown. But it is still disappointing. But what really turned me off to this flick was the typical anti-war anti-military angle that movie makers seem to think is important. True, war is hell. But most American soldiers, even though they grumble and gripe, tend to believe in what they are doing and can be rather gung-ho about it. My Grandfather served in World War I. And even though he died four years before I was born I have been told how proud he was of his service.'\n",
            " b'Mario Lewis of the Competitive Enterprise Institute has written a definitive 120-page point-by-point, line-by-line refutation of this mendacious film, which should be titled A CONVENIENT LIE. The website address where his debunking report, which is titled \"A SKEPTIC\\'S GUIDE TO AN INCONVENIENT TRUTH\" can be found at is :www.cei.org. A shorter 10-page version can be found at: www.cei.org/pdf/5539.pdf Once you read those demolitions, you\\'ll realize that alleged \"global warming\" is no more real or dangerous than the Y2K scare of 1999, which Gore also endorsed, as he did the pseudo-scientific film THE DAY AFTER TOMORROW, which was based on a book written by alleged UFO abductee Whitley Strieber. As James \"The Amazing\" Randi does to psychics, and Philip Klass does to UFOs, and Gerald Posner does to JFK conspir-idiocy theories, so does Mario Lewis does to Al Gore\\'s movie and the whole \"global warming\" scam.'\n",
            " b'***THIS POST CONTAINS SPOILER(S)*** <br /><br />I\\'m not a big fan of Chuck Norris as an actor, but I worship him in all other ways. He also have his own fan web site with \"Chuck Norris facts\" that is really entertaining. But this movie looks like someone was joking with the audience putting all those \"facts\" into one movie. I really don\\'t remember when I wasted my time more than with this \"action\". I don\\'t know what\\'s the worst this movie can offer you: unoriginal and thousand-times-made plot of terrorists who are trying to nuke US by smuggling nuke on US soil or perhaps that \"great\" dialogs and Chucks words of wisdom about life and everything else. Someone may find the worst that terrorists actually speak English in everyday life. It\\'s a never ending list of crap. Not to mention huge amount of archive footage used in film, that is kinda annoying. The chief terrorist send his comrades message through the media when he is captured and the only guy smart enough to see the treat is: Chuck Norris, of course. NO ONE else in America is not smart enough to see that! And the whole action in capturing chief is just ridiculous. One man is sent to walk through a whole terrorist camp UNARMED (I\\'m lying, he had a KNIFE), escapes his stalkers with JET PACK and then para glides for few hundred, maybe even thousand kilometers to nearest shore (Afganistan border is 450 km far away from nearest shore), where he is rescued by submarine. I hoped that at least fighting scenes will be good, but that\\'s even more funny than the plot. If you didn\\'t know, 85% of terrorist are masters of some martial art, but Chuck and CO beat the sh*t out of them. Not only they kill them easily, they can kick and throw them away by a single move and the bad guys fly few meters like dolls. You may ask me did I watch this movie to the end? I did. Why? Because I just wanted to see who, of these two super heroes, will defuse the nuclear bomb of few hundred megatons and size of a MICROWAVE. And then I realized what fool I am. Of course, it\\'s Chuck\\'s movie after all. And not only he singlehandedly defuse nuke with tweezers, but he do it - TWICE!! I could write a book about all the stupid things in this movie, but I would spend my life spawn.<br /><br />So, makers of this movie made another Chuck Norris fact to be added on his web site: Can Chuck Norris defuse nuclear bomb? Yes and he can do it twice!'\n",
            " b'Today actresses happily gain weight, dye their hair, dress like slobs, and lose their glamor for a role, and Bette Davis was probably the actress who started the trend. Even as a pretty young woman who occasionally wore designer clothes and Constance Bennett-type makeup in films, Davis was willing to ravage herself in order to create a character on the outside as well as the inside.<br /><br />Her determination is amply demonstrated here in her breakout film, \"Of Human Bondage,\" in which she stars with Leslie Howard as Philip Carey. Davis plays Mildred, a slutty, manipulative, greedy low-life to Howard\\'s masochistic, club-footed Philip. He first meets her when she\\'s a waitress, and she allows him to take her out to dinner and theater while she frolics with a wealthy older man (Alan Hale Sr.). In truth, Mildred is repulsed by Philip\\'s club foot. On his part, Philip seems to enjoy the abuse of her open flirtation and her coolness toward him. He allows Mildred to bleed him dry financially in between boyfriends who drop her when they tire of her, while he blows off a couple of truly lovely women (Kay Johnson and Frances Dee). When he gets the gumption to throw her out, Mildred trashes his apartment and robs him, forcing him to withdraw from medical school and lose his lodgings.<br /><br />\"Of Human Bondage\" looks rather stilted today in parts. Though Leslie Howard was a wonderful actor and attractive, his acting style is of a more formal old school, and as a result, he tends to date whatever he\\'s in. He shines in material like his role opposite Davis in \"It\\'s Love I\\'m After\" or \"The Petrified Forest\" which call for his kind of technique. His dated acting is even more obvious here because Davis was forging new ground with a gritty, edgy performance that would really make her name. If she seems at times over the top, she came from the stage, and the subtleties of film acting would emerge later for her. Contrast this performance with the restraint, warmth and gentleness of her Henriette in \"All This, and Heaven Too\" or the pathos she brought to \"Dark Victory.\" She was a true actress and a true artist. Davis really allows herself to look like holy hell; Mildred\\'s deterioration is absolutely pathetic as Philip seems to gain strength as her spirit fades.<br /><br />An excellent film in which to see the burgeoning of one of film\\'s greatest stars.'\n",
            " b'There are a few spoilers in this comment!!<br /><br />Contrary to the comments I just read by nativetex4u and a few others, I really liked the movie and would love to see it as a weekly series.<br /><br />I am a Judson Mills fan but also a huge Chuck Norris fan and while I\\'ll admit that a few of the action scenes may have stretched the line a little, the storyline fit right in with other weekly series that are currently being aired.<br /><br />The opening fifteen minutes with Deke running from the bad guys after blowing up their missiles was very action packed. I do fail to see how that many \"professionals\" weren\\'t able to hit a moving target, but the action was definitely there and Deke, being the hero, had to survive.<br /><br />As for the comment about needing to \"get the movie in the can to fill the time slot after the playoffs.\" This movie was not originally scheduled by CBS for a January airing and filming was completed in May of 2001, a good 4 months before the terrorist attacks against the U.S.<br /><br />If the writer of the comment had been paying attention to the movie instead of trying to avoid it, maybe they would have realized the plot of the story: Rashid, a Bin Laden like character, planned to set off a nuclear device in the United States. The President\\'s Man was called in to locate and eliminate the problem.<br /><br />Perhaps the writer should actually WATCH the movie before attempting to comment on it.<br /><br />'\n",
            " b'I have watched anime but I\\'m not a die hard fan; and I don\\'t read manga. I say this because many of the reviewers who are waxing lyrical about this film seem to have that background. I have seen \"St. John\\'s Wort,\" and although it isn\\'t a masterpiece by any stretch of the imagination, it made me pick up \"Shinobi,\" especially since everyone seems to love it.<br /><br />Well, I watched it this afternoon, and fought very hard to keep watching. Yes, it\\'s very beautiful - the slow motion water scenes, the autumn leaves on the trees, even the CGI eye flicker - majestic. I liked the hawk, the costumes, even some of the fight scenes, but overall this was dull as dirt.<br /><br />It seemed as if someone took \"Romeo and Juliet\" - the translation even mentions that they are star crossed lovers - and threw in some \"X-Men\" for good measure. Two of the characters split Wolverine\\'s powers - the guy dressed in a bear costume had his claws and the grey-haired guy had his ability to heal himself. Then you have the girl who has a poison kiss - that\\'s Poison Ivy (from Batman). Why do they give these women such dumb powers? Poison girl shows her leg then kisses you to death. Man, that\\'s some great power for you. And the other girl, can create bugs from this yellow dust that she rubs on her hands. The other woman, one of the star crossed lovers, has the power of a hypnotic stare. Wow.<br /><br />I sort of made it to the end of the film, by fast forwarding it, and did see a bit more tragedy than I expected. Some people are comparing this to \"House of Flying Daggers\" and \"Hero.\" Don\\'t make that mistake. They may share similar endings, but that\\'s where the similarities end. \"Shinobi\" is made by an amateur - the other films are made by an experienced filmmaker.<br /><br />I would say avoid this film unless you\\'re 12 to 18 years old.'\n",
            " b'Heartland was in production about the same time as Michael Cimino\\'s Heaven\\'s Gate - Heartland cost a fraction to make but is 10 times the piece of film.<br /><br />Heaven\\'s Gate was \"the biggest and most expensive ($40 mil in 1980!) Hollywood flops of all time, its failure resulted in the sale of the United Artists studio to MGM\" -imdb entry <br /><br />Heartland cost a few hundred thousand dollars and benefits from great writing, direction, photography and acting. It easily draws you into the beauty, joys, hardships and sorrow of pioneer life.<br /><br />It\\'s sad that Hollywood sometimes would pour millions into turkeys (based on a director\\'s single big hit) and neglect such a wonderful story.'\n",
            " b\"i am totally addicted to this show. i can't wait till the week goes by to see the next showing. it's a great story line and it has the best actors and actresses on the show. i will tune in every week to watch it even if i am not home i always have my vcr set to tape monarch cove. simon rex is the best actor on the show. it is suspenseful and exciting. i think this show should stay on the air and i believe everyone should tune in to watch it. i saw the very first episode and actually i wasn't going to watch it but i was watching lifetime one day and i decided to watch it because it was on and i absolutely love it and right now it's my favorite show. i am really mean it.\"\n",
            " b\"Interesting to read comments by viewers regarding Omega Code... many of the overwhelmingly positive comments were lifted almost word for word from TBN broadcasts... the movie looks as if it were made to go directly to video, to be stocked besides the three-part rapture series that was done by some other religious group in the 70s.. dont remember it? You wont remember this one either in a year or two. This is the first movie I have ever seen where it was implied that it was your religious duty to go to it and buy as many tickets as possible to save souls... very shameful... this just goes to show that if you are a televangelist's son, you too can play high-roller Hollywood producer with lil ole ladies tithe money...\"\n",
            " b\"when my sister said this movie was gonna be good i had second thoughts but i watched it and it was actually funny. basically the movie is made of a weird girl who goes to a small town where no one likes her and she just wants to go there and get the reading of her aunts will don so she can go. but its not all that easy. In this movie you will come across hilarious humor, a witch, a book of spells/recopies, a mentally challenged uncle and a dog. You will understand the meaning of the word freak a after anyways i hope you run right out and try to find this really old movie. hope you like it in total i will have to give it a 0.... no I'm totally joking ill give it a 9 hope you understand that you will laugh, you will scream and you may just be offended.<br /><br />love yours truly: Dakota you can email me at dakota_loves_it@hot mail.com if you wanna\"\n",
            " b'Samuel Fuller brings his customary playful and stylish direction to this seedy, pulpy story and manages to create one of the undiscovered gems of 1950s cinema.<br /><br />Richard Widmark plays a petty thief tough guy (a role he perfected over the course of many movies), who snatches a young lady\\'s (Jean Peters) wallet on a New York subway and with it a piece of much-wanted microfilm. This is 1953, so of course the microfilm is property of Commie spies who will stop at nothing to get it back. When the girl shows up at Widmark\\'s waterfront shack, sent by an abusive boyfriend to reclaim the film, Widmark senses the opportunity to shake her and her \"comrades\" down for big money. The plot thickens, people start dying, and Widmark and Peters fall in love.<br /><br />Fuller handles the love story clumsily, but more from a sense of indifference than bad writing or direction. It\\'s as if he included a love story under duress, and so made it intentionally unbelievable, as love stories so frequently were and still are in Hollywood films. Peters gives a remarkable performance as a tough New Yawk cookie, part gangster moll and part damsel in distress. When violence occurs against her, we genuinely care about her well being, and it\\'s typical of Fuller\\'s renegade, ahead-of-his-time style that a happy ending is not necessarily a foregone conclusion.<br /><br />But the ultimate success of \"Pickup on South Street\" rests squarely on the world-weary shoulders of Thelma Ritter, who plays Moe, a feisty lady who makes money any way she can, whether that be selling neckties or acting as a police informant. Ritter gives the performance of her career; in a breathtaking monologue, she conveys without ever directly addressing it the entire sad trajectory of her character\\'s life, and the hopelessness she feels waking up every morning to a world of struggle, crime and hardship. It\\'s as if every character Ritter ever played converges for one brief instant to give vent to all of the emotions they weren\\'t given a chance to vent in those other movies. The scene is the highlight of Fuller\\'s film, and a highlight of 50s cinema, period.<br /><br />Grade: A+'\n",
            " b'I loved the first season. The quality went down a little bit in the second season, which however had a great middle (Pegasus!). Third season was fairly novel and original and was OK. Fourth season started going downhill fast, because they never even began giving us any explanations, when by now we were really starting to need them. What the hell was the Cylon plan? Why were there two Cylon factions? What was the point of Angel-Kara leading the fleet to a devastated Earth-1? What kind of a past did the last five Cylons have, and how did they survive, or were they reincarnations? Questions everywhere, answers nowhere.<br /><br />And then comes the end. Earth-2 (our Earth) in the past. Well, okay. But destroying the fleet?! Giving up technology and giving up any kind of urban life, and spreading a few thousand people paper-thinly across the planet?! That\\'s not only anti-science, it\\'s anti-reason and anti-life. And the philosophy of the show then seems to be that humanity is forever trapped in a cycle going from nature romanticism to a decadent capitalist society inventing destructive A.I. that ruins everything. It is without vision, without hope for a grander future for humanity, and it is antithetical to proper science fiction. And don\\'t even get me started on the angels! Religious claptrap of the worst kind! The ultimate disappointment!!<br /><br />The whole \"all this has happened before and will happen again\" thing should have related to the previous incarnation of the series, not just to Earth as we know it. Making the new show somehow consistent with the old would have been the definitive stroke of genius. Frakkin shame.<br /><br />1 out of 10.'\n",
            " b'There are many reasons to watch this movie: to see the reality that whips Latin America with regard to the kidnappings thing, the police corruption at continental level, among so many realities that we live the Latins. <br /><br />The performance of Denzel Wahington was brilliant, this guy continues being an excellent actor and that it continues this way. Dakota Fanning just by 10 years, an excellent actress has become and I congratulate her. The rest of the movie was of marvel, I have it in my collection. <br /><br />I hope that they are happened to those producing of Hollywood to make a movie completely in Venezuela, where they show our reality better with regard to the delinquency, the traffic of drugs or the political problems. They have been few the movies that they play Venezuelan land (for example: Aracnophobia, Jungle 2 Jungle, Dragonfly) they should make more, as well as they make in Mexico.<br /><br />The song \"Una Mirada\" I hope that it leaves in the soundtrack, it is excellent. My vote is 10/10'\n",
            " b'A female vampire kills young women and paints with their blood. She has an assistant who doesn\\'t want to be a vampire, so he has to do what she orders or be turned into a blood sucker. After a few kills, the assistant gets remorse and falls in love with a homeless girl.<br /><br />What can I say about this movie ? That its pacing is over-slow, that it has some strange sound effects (never a bite sounded so strange) and ambiance (new jazz here I come) and that lights don\\'t seem to be included on the set. It looks like an \"auteur\" horror movie with all the self-sufficiency inside.<br /><br />The plot is completely stupid and as you can guess, it\\'s the female vampire who explains how to kill her even if she doesn\\'t have to do it; of course, crosses, light, garlic and sticks don\\'t work.<br /><br />It\\'s not even a funny lousy movie. Perhaps with some friends and a lot of beers, it can\\'t have its funny sides (to be honest, it\\'s funny during 10 - 15 minutes near the end of the movie). Don\\'t be fooled by the Troma sticker, it\\'s one the bad movie they present.'\n",
            " b\"Just got out and cannot believe what a brilliant documentary this is. Rarely do you walk out of a movie theater in such awe and amazement. Lately movies have become so over hyped that the thrill of discovering something truly special and unique rarely happens. Amores Perros did this to me when it first came out and this movie is doing to me now. I didn't know a thing about this before going into it and what a surprise. If you hear the concept you might get the feeling that this is one of those touchy movies about an amazing triumph covered with over the top music and trying to have us fully convinced of what a great story it is telling but then not letting us in. Fortunetly this is not that movie. The people tell the story! This does such a good job of capturing every moment of their involvement while we enter their world and feel every second with them. There is so much beyond the climb that makes everything they go through so much more tense. Touching the Void was also a great doc about mountain climbing and showing the intensity in an engaging way but this film is much more of a human story. I just saw it today but I will go and say that this is one of the best documentaries I have ever seen.\"\n",
            " b\"I've now seen this film twice, and I must say I enjoyed it both times. It's fast paced and fun, but ultimately daft. Having said that it deserves to be trashed because of screwing up what could have been a good follow up to the seminal original. It is clear for those who have seen the awful 'Zombie Creeping Flesh' that the films massive shortcomings can be owed to Bruno Mattei, and that the little that is commendable about it can be owed to Fulci. This is not idle Fulci sycophancy, the directors styles are starkly contrasted throughout, and you can tell who directed what, particularly in Mattei's case.<br /><br />The film is centered around the outbreak of a virus (oddly referred to as 'top secret' by a scientist, it's secrecy apparently being more noteworthy than its potentially apocalyptic effect on mankind) somewhere in south east Asia. The virus causes zombie like behaviour in those affected, and the virus quickly spreads across a seemingly arbitrary area of land. Our protagonists unwittingly wander into the danger zone, and have to fight for their lives against hordes of infected Asians.<br /><br />The film seems to be stuck half way between being a zombie gore flick, and an out and out action adventure, and this confusion is captured most clearly by the zombies themselves. They do not appear to have a set of characteristics common to all. Some are of the regular soulless shuffling variety, so well rendered in the original, and probably Fulci's creation here. The other main group consist of those who in being infected with the virus lost all sense of themselves, but incurred a savage aggression and a desire to earn a black belt in ninjitsu: Indecisively leaping around unsure of whether to continue honing their upper roundhouse technique or engage with their brethren in what looks like a mass tickle fest on their hapless victims. Martial arts skills aren't their only talents either, they are well versed in guerilla tactics, hiding on rafters and under bales of hay, and sometimes inexplicably falling from nowhere but the heavens themselves. This is all definitely the work of Mattei.<br /><br />There is a third, more chatty, variety of zombie. This type apparently retain a sense of irony as well 'I'm really thirsty...FOR YOUR BLOOD'. The ridiculous twist at the end in which the DJ turns zombie but continues to preach ad libbed gibberish about the fate of mankind, only serves to enhance the WTF factor and obliterate any hope of a serious resolution.<br /><br />Then there's the infamous zombie head which slowly propels itself through the air, a jokerish skeletal grin wrought across its face, as if to say 'yeah we know how bad this looks'.<br /><br />The characters are all utterly one dimensional as you would expect. But its the pseudo comical dialogue and dubbing that really prevents us from taking their plight seriously. Having said that the first soldier to die does put up an impressively valiant display against an unstoppable zombie menace. Indeed this is the first and perhaps only time we hit real zombie agro, and one of the only effective scenes in the film.<br /><br />The guy who played the chief scientist has heart, but no talent, utilising pauses in his lines entirely at random, so he ends up sounding like a confused asthmatic. The scientists' on screen attempts at finding an antidote are totally unconvincing 'now lets put these two molecules together!' <br /><br />There are a few moments that stick out as genuinely effective however. In an early scene a female protagonist explores an abandoned garage. Upon entering a room we are confronted with a hazy view of a shifting figure in the corner and a squirming mass on the floor, all shot in an atmospheric diffused light. The silence is interrupted by the appearance of a speedy machete wielding zombie who trashes everything in his wake in his alarming desperation to have her. His sheer aggressiveness is one of the few moments of real horror in the film. The before and after theme conveyed through the hotel that plays host to the happenings of the earliest stage of the outbreak, and later as a refuge to our protagonists is imbued with an thick humid ambiance. There is a scene in which one of the soldiers cautiously approaches a boarded up room that clearly houses hordes of the undead, and this is quite tense. Things become more dramatic when they board themselves in the hotel unknowing to what lurks upstairs. But this is sloppily handled and not nearly as effective as it could have been.<br /><br />All in all I would say this film may just about deserve to be called a royal screw up of a potentially effective tropical zombie fest, rather than simply a through and through bad film. If nothing else it has plenty of the unintentional laughs that I've come to expect from just about anything Italian and gory from the eighties.\"\n",
            " b\"Jess is 18, very smart and wants nothing more than to play football, when she joins a local team she has to lie to her parents again and again, as they would never approve of her chasing her dream, they want her to settle down with a nice Indian boy and learn how to cook.<br /><br />Bend it Like Beckham is a very funny feel good movie that doesn't need to be deep and complex, it's just fine as it is. The cast are all very good and they play their roles very well, the story is simple and predictable, but it works perfectly and the script is very realistic and very funny.<br /><br />A great Family movie 8/10\"\n",
            " b'THE GREAT CARUSO was the biggest hit in the world in 1951 and broke all box office records at Radio City Music Hall in a year when most \"movergoers\" were stay-at-homes watching their new 7\" Motorola televisions. Almost all recent box office figures are false --- because they fail to adjust inflation. Obviously today\\'s $10 movies will dominate. In 1951 it cost 90c to $1.60 at Radio City; 44c to 75c first run at Loew\\'s Palace in Washington DC, or 35c to 50c in neighborhood runs. What counts is the number of people responding to the picture, not unadjusted box office \"media spin.\" The genius of THE GREAT CARUSO was that the filmmakers took most of the actual life of Enrico Caruso (really not a great story anyway) and threw it in the trash. Instead, 90% of the movie\\'s focus was on the music. Thus MGM gave us the best living opera singer MARIO LANZA doing the music of the best-ever historic opera singer ENRICO CARUSO. The result was a wonderful movie. Too bad LANZA would throw his life and career away on overeating. Too fat to play THE STUDENT PRINCE, Edmund Purdom took his place --- with Lanza\\'s voice dubbed in, and with the formerly handsome and not-fat Lanza pictured in the advertising. If you want to see THE GREAT CARUSO, it\\'s almost always on eBay for $2.00 or less. Don\\'t be put off by the low price, as it reflects only the easy availability of copies, not the quality of the movie.'\n",
            " b\"Before the release of George Romero's genre-defining Night of the Living Dead, zombies were relatively well-behaved creatures. They certainly had much better table-manners in the old days. But social etiquette aside what thrills did these early zombies offer to the movie-going public? Judging by this film, none whatsoever.<br /><br />The story is about an expedition to Cambodia, whose purpose is to find and destroy the secret of zombiefication. One of the party discovers the secrets on his own and sets about building his zombie army.<br /><br />This film is basically a love triangle with zombies. But seeing as this is a 30's movie, the said zombies are more like somnambulists than the flesh-eating variety we think of today. They seem to respond to mind-control, rather than insatiable appetites. And, quite frankly, the 'revolt' is somewhat underwhelming too. The whole thing is really very dull. Aside from the lack of horror, there isn't any over-the-top melodramatic theatrics to keep us entertained. It seems unlikely that this could've provided much entertainment even 70 years ago. See it if you have to see everything with 'zombie' in the title but otherwise I would advise skipping this one.\"\n",
            " b\"Kureishi hasn't exactly been blessed with movies that justify the quality of his writing. Recent adapted travesty's like 'Intimacy' have ruined great writing. But The Mother surpasses all his previous incarnations, eclipsing even My Beautiful Laundrette. A middle-aged woman overcomes widow-hood by having a very carnal relationship with the boyfriend of her emotionally-weak daughter. The fact that you believe all this is credit to the quality of the acting as it is to the finite gift of the writing. And in Daniel Craig we have a strutting, brash, gruff anti-hero who denies the audience to ever question why a young stud would contemplate bedding a sagging grandmother. Beautifully shot, the film fails only in the weak depiction of the peripheral characters, but as a study of inconceivable lust, it's a winner.\"\n",
            " b'Back to the roots with \"like it is in heaven\" - what are the real values of life? These Swedes carve out a message that appeals to every heart. We\\'ve seen it twice now in a cinema packed to the last seat: love pure and joy within the music of a choir that\\'s simple, yet full of power once everyone finds his or her inner tone. <br /><br />From the glitter of fame to the school of of his youth, now empty and ready to be adapted as his new home after collapsing on stage, Daniel wants to start listening and is drawn into the lives of the simple, warm and rough people of the North.<br /><br />He wins the hearts with music and gains the capacity to love and be loved unconditionally.<br /><br />Don\\'t go see it if you\\'ve been normed to Hollywood. This stuff contains no extras, just your laughter, your compassion, your tears!'\n",
            " b'Absolutely awful movie. Utter waste of time.<br /><br />background music is so loud that you cannot understand speech. Well if you really listen closely, whatever they speak is actually unintelligible.<br /><br />Camera work is bad, editing is not present, background score gives a headache, action is shoddy, dialogs are unintelligible, Acting is abysmal and well Kareena used to look like a wrestler, now she looks like a starved wrestler. Hell you can slim down but you cannot gain grace.<br /><br />After spending three hours watching a movie I want to like it, but this movie would not even allow me that pleasure. <br /><br />Please if you want to torture yourself, go ahead watch this.'\n",
            " b'I simply can\\'t get over how brilliant the pairing of Walter Matthau and Jack Lemmon is. It\\'s like the movie doesn\\'t even need additional characters because you can never get tired of the dialog between these two.<br /><br />Lemmon had already been in several well-known films like Mr. Roberts and The Apartment and Matthau was fresh off his Oscar win for The Fortune Cookie (another Billy Wilder film also with Lemmon). That particular movie wasn\\'t as great as this one because the story couldn\\'t sustain such a long running time (I think it was almost 2 hours). However, this goes by at a brisk hour and a half, even though the introduction of the events leading up to Lemmon ending up at Matthau\\'s apartment is a tad long (so was this sentence). That\\'s a minor quibble though and for the rest of the running time you have a marvelous time.<br /><br />I have already written a comment about how the follow-up to this film sucked and I won\\'t go deeper into that. The reason why this is such a joy is probably that the movie was made just as the innocence of American movies was beginning to fade fast into oblivion. There are some sexual references but they are dealt with in such an innocent way that you couldn\\'t even get a \"Well, I never...\" out of the most prudish person out there. It is kind of fun to see a movie from a long lost era and that was probably why the sequel didn\\'t work because you had Matthau and Lemmon say quite a few f-words and that just doesn\\'t fit them.<br /><br />Of course, now they are both gone and you can just be happy that you still can enjoy them in a marvelous film like this. I think the only male actor in this film who is still alive is John Fiedler. Edelman died recently. So there you have it. Simply one of the best comedies and films ever.<br /><br />Add: I have just learned recently that John Fiedler has died so to all the fans of him I am deeply sorry. I didn\\'t mean any disrespect and I will try to be more careful of what I am blah blah blahing next time.'\n",
            " b'When a rich tycoon is killed in a plane crash, his spinster twin sister, Martha Craig (Madge Kennedy), doesn\\'t believe he grabbed the controls in a suicide dive (even though self-snuff runs in the family) but his three beautiful daughters couldn\\'t care less. The pilot, Jim Norton (John Bromfield), goes to work for Valerie Craig (Kathleen Hughes) who soon coerces him into helping her wrest control of the estate from her troubled sister, Lorna (Sara Shane) and the family lawyer (Jess Barker). Valerie wants Norton to seduce Lorna when he\\'s not fending off the advances of another sister, the nymphet Vicki (Marla English), but her plans are thrown into a tailspin when Norton falls for his prey. All bets are off as a world of woe -including corporate chicanery, seductions, suicides, blackmail, a murder plot, the Mann Act, double-crosses, disfigurement, and poetic justice- befall \"Craig Manor\", an imposing mansion on a bluff overlooking the sea...<br /><br />This preposterous potboiler would have made a perfect second feature for WRITTEN ON THE WIND, also from 1956. Douglas Sirk\\'s saga of a powerful (and powerfully dysfunctional) oil clan was said to have inspired the 1980s night-time TV serial DALLAS but the Craig\\'s low-brow excursion into insanity seems right out of it\\'s sinful sister-soap, DYNASTY. All three siblings (only one of whom is really bad) are great beauties but it\\'s Kathleen Hughes\\' cartoon villainy that stands out. Valerie is relentless in her quest to inherit the family fortune and her unbridled enthusiasm for evil is one of the movie\\'s many guilty pleasures. Teenage sister Vicki is quite a piece of work as well, reminiscent of Carmen Sternwood in THE BIG SLEEP. When they first meet, she pulls the equivalent of trying to sit on Norton\\'s lap while he\\'s still standing by coming on to him with the line \"I graduated summa cum laude from Embrace-able U.\" Whew!<br /><br />THREE BAD SISTERS, produced by schlockmeister Howard W. Koch, is a terrific trash-wallow in exploitation excess and the cast is B-Movie Heaven: Marla \"She Creature\" English, 50s hunk John \"Revenge Of The Creature\" Bromfield (once married to French sexpot Corinne Calvet), Universal starlet Sara Shane (discovered by Hedy Lamarr), Jess \"Mr. Susan Hayward\" Barker, Kathleen \"It Came From Outer Space\" Hughes, and former silent screen star Madge Kennedy give it all they\\'ve got -however much or little that is. Future Eurotrash star Brett Halsey (TRUMPET OF THE Apocalypse) is seen briefly as one of Vicki\\'s victims.<br /><br />B-Movie rating: 10/10 Marla (and her body English) made marvelous movies! THREE BAD SISTERS was recently seen on the big screen as part of the Palm Springs Film Noir Festival but the jury\\'s still wiping soap suds out of ...aw hell, it\\'s noir (5/10 on the noirometer).'\n",
            " b'So i had low expectations for this movie to start with, but it failed to meet even those. while there were some funny parts, even one or two laugh out loud parts, this movie fell terribly short of what i would call good. the funniest jokes were unexpected and over very quickly, leaving us sitting there going \"WTF just happened?\" in addition, there were a few jokes that just dragged on and on and on. the part where he falls down the mountain had me yawning. also, the editing was really lacking. there were some poor scene transitions, but that seems to be the style nowadays. It made me laugh, but i wouldn\\'t watch it again, and I\\'m very glad i waited for it to rent. give it a chance, you might enjoy it, but don\\'t think you are in for anything along the lines of the 40 year old virgin, or Superbad.'\n",
            " b'Murder By Numbers is one of those movies that you expect is made-for-TV but isn\\'t. Considering the only actor of any note is Bullock (although Michael Pitt seems to be moving onto bigger and better things), it isn\\'t a great surprise that this movie quickly fades away from memory to be replaced by more important things. Like... remembering to lock your front door when you go out. Or putting clothes back on when you come out of the shower.<br /><br />Bullock plays Cassie Mayweather, a cop with personal issues (don\\'t they all). Together with her new partner (a wet-looking Ben Chaplin), she is called to investigate the murder of a young woman. Nothing unusual there except that the perps are a couple of teenage students who think they\\'ve planned and executed the perfect murder. As the investigation continues, a battle of wills emerges between Cassie and the main suspect Richie Haywood (Ryan Gosling).<br /><br />The crippling issue here is that the two leads are hopeless. Bullock, though she is very nice to look at, is about as believable in the role of a hardened cynical cop as Rodney Dangerfield (actually, he\\'d be better!). Chaplin, for his sins, is a complete non-entity and I feel sorry that he has to put this film on his CV in his attempt to break into Hollywood. At least Gosling and Pitt, as the conniving sneering suspects, acquit themselves adequately. As if dodgy leads weren\\'t bad enough, a story that would send anybody to sleep and a highly predictable (but illogical) ending shoot this film in the head before it has a chance to run.<br /><br />\"Murder By Numbers\" has absolutely nothing going for it, even a pointless nude scene by Bullock wouldn\\'t redeem it. Well, just a little but still not enough to save it. Forgettable, predictable and redundant - this is one film that isn\\'t going to move the cop genre forward. As Cassie probably says on her next case, there\\'s nothing to see here people. Move along, keep moving...'\n",
            " b'THIS CONTAINS SPOILERS.<br /><br />I have rarely seen a film that is as unbelievable as this one is. And being French, it tries for depth by being enigmatic\\xc2\\x85 nothing really makes any sense.<br /><br />L\\xc3\\xa9o is gay and has just announced at breakfast to his family that he is HIV positive. The youngest brother, Marcel, has not yet come down to breakfast, and the first thing the family does is decide that at 12 years of age he is too young to be told. Maybe if he was four or five, but twelve? The first totally unbelievable thing is that the family doesn\\'t even ask where or how he got the virus, how long he has known about it\\xc2\\x85 nothing is asked. They only worry about Marcel finding out. This is a very close \\xc2\\x96knit provincial family, but although they decide not to let Marcel know about L\\xc3\\xa9o\\'s HIV positive status nor the fact of his being gay, the rest of the family accepts all this news with absolutely no questions or reactions. How many families do you know where the parents/brothers wouldn\\'t have at least SOME reaction to one of the members announcing that he is gay? Here, nothing.<br /><br />L\\xc3\\xa9o decides that he needs to go to Paris to see his ex-lover. And he decides to go on the trip with, of all people, Marcel. Do you know anyone who would bring his little brother along to go see a lover? Again, totally unbelievable, especially since Marcel is not supposed to know either of his medical problems nor of his homosexuality. If this is the way the family has decided to let him find out, it is rather brutal and again unbelievable.<br /><br />L\\xc3\\xa9o goes to find his lover, Aymeric, at his work in a Paris bar. The owner says that Aymeric will not be there until the early evening. But why would L\\xc3\\xa9o want to see him at work? Why not phone and arrange to see him in some place more private where they can really talk? Why not go and see him at his home? But no, L\\xc3\\xa9o shows up later in the day (with Marcel in tow) and is surprised when Aymeric doesn\\'t just drop everything to go walk with him for 5 minutes. Aymeric tells him that he is no longer available, that it was L\\xc3\\xa9o who left him, and that L\\xc3\\xa9o hadn\\'t replied to any of his letters. L\\xc3\\xa9o says \"But I love you\" and then wanders off. But if he really loved Aymeric, wouldn\\'t he have at least told him about his HIV status, to warn him to get tested and maybe get medication? This would be the least he could do \\xc2\\x96 but not a peep. He leaves and doesn\\'t even warn Aymeric that he might have contracted the AIDS virus. This is totally irresponsible of him \\xc2\\x96 and of the film-makers; this film was apparently made for a French TV series for young people \\xc2\\x96 it is the perfect way to show kids how to be responsible. Well, not here\\xc2\\x85 I guess \"Every man for himself\" is still the French way of doing things\\xc2\\x85 Another aspect of the film which was totally unbelievable was the \"touchy-feely\" aspect. Everyone is always leaning against someone, caressing someone or kissing someone. Inside the family and outside the family. I have never seen anyone in France be THIS physical, never mind an entire family. Seated at the breakfast table, one 17 year old brother has his leg perched on the lap of his elder brother, and the elder brother is caressing his leg as everyone sits around discussing something. How many brothers do you know who are THAT physically close? In another scene, the same 17 year old comes into Marcel\\'s room asking \"What\\'s the matter, can\\'t you sleep?\", then takes off his clothes and, completely naked, gets into bed with his brother and snuggles up to him as if they were lovers. This and another similar scene between L\\xc3\\xa9o and Marcel gave a somewhat incestuous feel to the film. Sorry, again I don\\'t believe that this is regular behaviour between teenage brothers.<br /><br />The only good thing I can say about the film is that the actors are all quite fine\\xc2\\x85 especially Marcel in the main role. But it wasn\\'t really enough\\xc2\\x85 HIV and AIDS are far too serious to be presented in such a vague and irresponsible light. At the end of the film, the family has gone to the cemetery to bury L\\xc3\\xa9o, but once again, Marcel has been left out of it \\xc2\\x96 he has been left in the care of a cousin (I think). Nevertheless he sneaks out and watches the funeral from afar. Is this what such a close-knit family would have done? It is totally inconceivable that they would not have included him in his brother\\'s funeral. It was the last scene of the film, and it was the last straw for this viewer.'\n",
            " b\"This is a truly awful film. What they have done is taken a TV show, which was never aimed at young children & given it the George Lucas treatment (i.e. ruined it by kiddifying it to appeal to the younger audience).<br /><br />OK so the Thunderbirds TV show wasn't exactly the most cerebral of shows, in fact it was pretty formulaic, but it was always enjoyable to watch (especially when the models got blown up) and the voice cast wasn't too bad.<br /><br />This suffers from bad casting & bad acting (with the notable exceptions of Sophia Myles as Lady Penelope & Ron Cook as Parker, who seem to be the only cast members to have a clue about how their characters should be played) & after this travesty I wouldn't let Frakes direct traffic.<br /><br />The whole point of Thunderbirds was that it was about the whole Tracy family & how they worked as a team, preventing disasters or coming to the rescue of those involved in disasters.<br /><br />Avoid this rubbish like the plague.<br /><br />I only give it 1 out of 10 because a zero rating is not supported.\"\n",
            " b'Robert De Niro, Cuba Gooding Jr., Hal Holbrook, and all the rest of the actors and actresses in \"Men of Honour\" have combined to make this a fine movie. Mark Isham wrote the filmscore, so you know the music is truly fine, too.<br /><br />But: After noticing a slew of goofs, loopholes, and over-dramatic heart-string pluckings right from the start, I had to make a vow to ignore them and sit back to enjoy the film. If you can do that, it _really_is_ good.<br /><br />The story of Carl Brashear, a true-to-life hero, is inspirational enough to last a lifetime. Look him up on the internet... The entire story is more amazing than the film, as the Director admitted in his comments. There were only three African-American U.S. Navy divers in World War II. However, none reached the status of U.S. Navy Master Diver. Carl Brashear was THE first African-American U.S. Navy Master Diver. AND he was the first amputee diver to ever be certified or recertified as a U.S. Navy diver. (Resounding Applause).<br /><br />On the negative side of the movie\\'s ledger: Should I tell you of only one of the many \"loopholes\"? Yeah, I\\'ll mark this comment as containing \"spoilers\" and do so... The early, pivotal scene where the helicopter hits the radio mast and sinks into the sea: They\\'d never have had the time to suit up a full Mark V diver, even if he were the legendary Master Chief Billy Sunday, in time to be only \"... a couple of minutes late\" saving the pilot.<br /><br />So, for loopholes, goofs, and over-dramatization, I derated \"Men of Honor\" from a perfect 10 down to a 7.<br /><br />Will Hollywood EVER realize that the unalloyed truth is so much better that their over-dramatic approach to story-telling? I doubt it. Too bad!'\n",
            " b'Sure, this one isn\\'t really a blockbuster, nor does it target such a position. \"Dieter\" is the first name of a quite popular German musician, who is either loved or hated for his kind of acting and thats exactly what this movie is about. It is based on the autobiography \"Dieter Bohlen\" wrote a few years ago but isn\\'t meant to be accurate on that. The movie is filled with some sexual offensive content (at least for American standard) which is either amusing (not for the other \"actors\" of course) or dumb - it depends on your individual kind of humor or on you being a \"Bohlen\"-Fan or not. Technically speaking there isn\\'t much to criticize. Speaking of me I find this movie to be an OK-movie.'\n",
            " b'When I saw the film for the first time in the early 1970s, I was in awe of this film. Visually it was stunning and the events on campuses in Europe and USA made you relate with what Antonioni was trying to say so well visually in the final 15 minutes of the movie: blowing up in your mind the \"tyrannical\" establishments and big business interests. The repeated blowing up of the beautiful house in the middle of a desert, the lead female character enjoying the natural stream of cold water, painting a plane in psychedelic designs (even the staid British Airways did it a few years ago) are some of the images that were copied by advertising personnel all over the world for decades. Even Pink Floyd increased their fan following after the film was released.<br /><br />You see this film some 30 years later and you begin to wonder why the same film has lost its appeal. Today anti-establishment films have more substance--facts, documentation, fine performances, and superb screenplays. Antonioni seems to be out-of-date; a flawed genius. Even viewing Antonioni\\'s \"Blow Up\" today gives you the similar feeling that he is passe.<br /><br />\"Zabriski Point\" has to be evaluated for what it was when it was released. It was a great film if you were to see it on a wide Panavision screen as opposed to the dwarfed TV screens. The visual and aural (Mick Jagger, Kieth Richards, Pink Floyd, et al.) allure of the film still remains. The lead pair were not great actors but they were cute and natural. One of them (Mark Frechette) died in prison in USA extending the reality of the non-conformist values he personified in the film.<br /><br />Today, Antonioni seems out of \"sync.\" But watch carefully and you will appreciate the muted sounds of the regular actors--Rod Taylor, G.D. Spradling, the ladies at the swimming pool, the cops at the air-strip. The real sounds in contrast are from the non-conformists. Antonioni was relevant 30 years ago but his grasp of the medium cannot be questioned even today. He knew what he was doing.'\n",
            " b'Soulless milking of cash cow franchise. Generic superhero flick. CGI showcase. Gavin Hood\\'s \"A Series of Improbable Events.\" Combinatoric iteration of mutant fight scenes strung together by inane exposition justifying formation/dissolution of arbitrary alliances. I\\'m not expecting Shakespeare here but the clich\\xc3\\xa9 per minute meter was off the charts: Primal scream while looking skyward and kneeling over murdered girlfriend. Renegade military commander. Predictable double crosses. Revenge sought for slain lover. Erased memories. Evil character discovering morality at last minute. Misguided failures to execute nemeses after defeating them in melee. Lover not really dead. Lover actually acting as spy for hero\\'s arch-nemesis. Girlfriend/spy actually falls for protagonist. Good people work for antagonist in order to save kidnapped family members. Evil mastermind fails to honor promises to reluctant employees. Kindly old couple care for weary hero and get murdered for their troubles. Certain deaths averted as third parties arrive on scene before coup de grace. Hero reluctantly joining secret government agency. Abandonment of elite squad in protest over slaughter of innocents. Scientists unable to control indestructible killing machine of their own creation. Outdated but lovable government \\'secret weapon\\' kills off better designed but heartless successor. Hero strolls away from wreck and casually lights a trail of gasoline behind him. After everyone has given up, flatlined heart monitor picks up a pulse. Evil mastermind explains plans to hero he no longer sees as a threat. Hero refuses to kill defeated foe because he\\'s \"better than that\". Transparent comic relief character makes hilarious understatements and offbeat comments. Cheerful psychopath revels in random murderous rampages. Nigh indestructible Goliaths hurl one another through a series of walls and other physical traumas that would kill a mere mortal. Man dispatches dozens of gun wielding enemies with nothing but skillful swordplay. Common sense and the laws of physics, biology and chemistry temporarily abandoned. Antagonist using loved one\\'s murder as justification for misguided crusade.<br /><br />I could go on but this is just exhausting. If you\\'re over the age of twelve and not living in mom\\'s basement, there\\'s probably nothing here for you. Depressingly enough, it\\'s not too far off of par for superhero movies so discount all I\\'ve written if you can\\'t get enough of the genre.'\n",
            " b'My friend\\'s mom used to work at a video store and got to preview movies before they came out, so when she brought home The Convent, a horror movie, i couldn\\'t wait to watch it. Given that it\\'s supposed to be scary but is actually downright hilarious, I can say that in some weird way, I like this movie. <br /><br />yes, the acting is bad, and yes, it\\'s the cheapest movie i\\'ve ever seen, but it\\'s so damn funny! \"WHAT, ARE YOU SMOKING CA-RACK?!\" i didn\\'t know this movie even was ever released... i figured it was too bad... <br /><br />Yeah, so... overall the movie is pretty bad (you gotta admit that much at least) but I promise you, you will get a good laugh out of it.<br /><br />*this movie kinda sucks but it\\'s good for a laugh... especially that guy that holds the \\'dagger of despair\\'.. THE DAGGER OF DESPAAAAAAIR!'\n",
            " b\"<br /><br />This movie is by far one of my favorites. I saw it while in college in the early 90's, and while I couldn't identify with the thirtysomethings in the film, I felt that the story, characters, and movie in general were top notch. To the people who spoke negatively of Indian Summer, feel free to stick to your overblown Armageddon-type movies and leave the movies with a great, wholesome story to those who can appreciate them.\"\n",
            " b'Despite reading the \"initial comments\" from someone who curiously disliked the film -- (WHY IS THE ONLY NEGATIVE COMMENT VERY FIRST ON THE LIST?)it was very nice to note that virtually everyone else loved it! Obviously the Church wanted to stress certain points and portray the prophet Joseph Smith in a positive manner ~ thats the whole idea. And in fact, those points were extremely effective. We already know Joseph Smith was human... but despite that, AND all of the horrific negative attempts stirred on by the adversary, it showed just how he was able to complete a remarkable, God-given work. I\\'d recommend it to anyone!'\n",
            " b\"I believe Shakespeare explained what I just read beautifully. Me thinks he (the lady) doth protest too much. The whole thing sounded to me as if the author was trying to convince himself! He sites profane literature (writings from the same time period but not connected with the bible) a number of times however I can think of at least three references off the top of my head which lend historical accuracy to events contained in the bible. Anyone can skew data & prove anything they like but it doesn't make it true. Customs change, word definitions change over time (look at English & German where it is very obviously a common root) nothing stays the same, it's always growing and changing. The bible has many different translations but the King James version is the one I've found to be the best when it comes to any kind of research. In the King James version you will notice there are certain words written in italics. These words have been added by the translators and can be dropped & the mean of the entire verse changes. Writings from around the time of Christ were written without spaces, without punctuation, without paragraphs & without numeric verses. These writings look like one long word & the translators added all of the above. For example how would you read this: GODISNOWHERE do you read it as God is nowhere or do you read it as God is now here? Same string of letters two entirely different meanings. This is why many biblical researchers use a 'Lexicon' to assist them in translation as it provides a word for word translation from the original Arabic, Greek or Hebrew depending on the language in which the scripture was originally written. It's also interesting to note that when translated into symbolic logic you can prove God exists but you can not prove He doesn't exist! In the end I just love listening to people who think they are so smart that they are qualified to judge the almighty. Talk about ego! Putting soapbox away, God Bless Maegi\"\n",
            " b'A fondly-remembered melodrama \\xc2\\x96 thanks chiefly to Ronald Colman\\'s fine Oscar-winning central performance \\xc2\\x96 about an oft-treated theme: the nature of acting and how it can overtake one\\'s perception of reality. In this case, we have a well-known thespian tackling Shakespeare\\'s \"Othello\", so that the film\\'s last third delves effectively into the thriller genre \\xc2\\x96 with press agent Edmond O\\'Brien (who happens to really be besotted with Colman\\'s co-star and ex-wife Signe Hasso) \\'investigating\\' the actor\\'s possible involvement in the Desdemona-like strangling of a celebrity-seeking waitress (a very slim Shelley Winters). The theatrical/New York atmosphere of the immediate post-war era is vividly captured by the husband-and-wife screen writing team of Garson Kanin and Ruth Gordon and legendary \"actor\\'s director\" George Cukor (all of whom were recognized by the Academy with nominations); incidentally, the film nabbed a second Oscar for Miklos Rozsa\\'s eclectic score. Colman, forever the suave leading man blessed besides with a velvety voice, does well enough by Shakespeare \\xc2\\x96 gaining conviction the farther his character slips into obsessive jealousy, a murderous rage and, eventually, paranoia; however, he is not let down by a supporting cast which also includes director Ray Collins, reporter Millard Mitchell, detective Joe Sawyer and coroner Whit Bissell. Though the mid-section is a bit strained, the film makes up for any deficiencies with a remarkably-handled Expressionist denouement.'\n",
            " b'The Bourne Ultimatum - Jason Bourne (Matt Damon in his best role ever), the newest spy kid on the block, brings his quest for his identity to a close as he also seeks to end the CIA\\'s latest program \"Blackbriar\" to make super assassins like himself.<br /><br />I was so psyched for this one that I watched it\\'s predecessors yesterday and today. Identity was as brilliant as I recall and Supremacy remains the weak (but still enjoyable) link in the chain for the weakest plot and, aside from a car chase which this film\\'s chase easily tops, slight lacking in action and suspense.<br /><br />Hoo boy, does Ultimatum have suspense! Even when you know Bourne will escape the authorities (and boy do these films spotlight the police as inept), it\\'s still brilliant watching him do it. It\\'s mind-boggling to think that two guys with handguns and mopeds can create 10x more suspense than anything those $150 million giant robots did in Transformers.<br /><br />Chalk it up to Paul Greengrass, who has this idiosyncratic style of shooting stedicam a la documentary, even though he\\'s filming characters that are far from ordinary, in places like CIA headquarters where no one within 10 miles would be allowed with a camcorder. He seemed to listen to my various complaints with Supremacy, as the action in Ultimatum is nothing less than awe-inspiring, with various implements used as weapons being a candlestick, a hardcover book (I\\'ll never look at those the same way again) and an electric fan (Don\\'t ask). The music also helped generate much suspense, and there was hardly ever a moment to not nail-bite over.<br /><br />The acting is good, and the evolution of Julia Stiles\\' character \"Nicky\" put her situation into a new highly sympathetic light. Damon plays his signature role with reserve but competency (which sounds minor but that it genuinely looks like Matt Damon could evade the CIA and Interpol is something), but noticeable moments of poignancy as he still struggles to find his humanity. This longing of his for a real life could get boring, and almost did in Supremacy, but just works better in Ultimatum (better script). <br /><br />I am reminded of a scene in \"Goldeneye\" (the only good Pierce Brosnan Bond film) in which Sean Bean\\'s character asks James if the martinis ever silence the screams of all the men he\\'s killed. Bourne regrets all the people he killed, and he considers (or at least made me consider) the meaning of action without purpose, life without meaning, and how the government has transformed men into resources. Albeit, resources that know Krav Maga and can make weapons out of anything.<br /><br />Sidenote: it\\'s always bothered me that, despite being a superspy and hunted by the CIA, Interpol, and the police nearly ANYWHERE he goes, that Bourne never thought to make even the smallest attempts to disguise his features or forge some new passports. Sunglasses maybe? <br /><br />If you have a pulse and love action movies, than Bourne Ultimatum is for you. Hell, it\\'s probably the best action film to come out this year. Of course, you\\'d be a fool to see it without watching the others first. It kind of drags a touch near the end, but I almost feel tempted to overlook that. This is the first \"3\" movie this summer to at least match, if not exceed, the original and that is saying something.<br /><br />A-'\n",
            " b\"Very interesting. The big twist wasn't as big a shock as maybe they had hoped for and it was very dated but it did get my mind working. It really got me thinking about a world without vegetation or livestock and made me appreciate the world I live in a lot more. Charlton Heston does a good job, as do all the supporting characters, and it was a very realistic film which was surprising. It lacked direction at times and a lot of the settings and background needed more explanation but it was still a surprisingly good and intelligent movie. The main fault that I could find was that I didn't want the film to end when it did, I would have liked to see what happened next.<br /><br />7/10\"\n",
            " b'Someone had a great idea: let\\'s have Misty Mundae do her own, R-rated version of Lara Croft - firing two guns not only in skimpy outfits, but topless as well. It WAS indeed a great idea. The problem is that the people who had it couldn\\'t come up with any sort of script or budget to support it. Therefore, we get a \"film\" that barely reaches medium length by replaying many of its parts (often in slow-motion), and was apparently shot entirely inside a garage. The appeal of Misty Mundae is still evident: she is unbelievably cute and has a natural girl-next-door beauty. However her two female co-stars here, with whom she shares a lengthy lesbian scene, are nowhere near her league. If \"Mummy Raider\" was presented as a Youtube video, I\\'d rate it higher, but as a \"film\" destined for DVD consumption it cannot get more than 1/2 a * out of 4.'\n",
            " b\"I've had this movie on tape for years and started watching it again this morning (while waiting for my laundry --- how ironic!) mostly because I wanted to hear Benjamin Frankel's title music again. I ended up sitting through about the first half hour, entranced by how wonderfully assured the direction, writing, and performances are. The movie is like a who's who of 50s British character stars: Cecil Parker, Michael Gough, Miles Malleson, Duncan Lamont, and particularly Ernest Thesiger, great as the dessicated old giant of the textile mills. Not to mention Alec Guinness and Joan Greenwood, not character players as such but charming, charismatic leads. This is science fiction in its purest form and droll comedy as well. An all-time classic, and I hope no one ever tries to remake it!\"\n",
            " b\"Model Chris McCormack (Margaux Hemingway) is brutally raped by a teacher (Chris Sarandon) of her sister Kathy (Mariel Hemingway). He is brought to trial but goes totally free. He then rapes Kathy!<br /><br />Objectionable and sick rape film. This movie was advertised as an important drama dealing with rape. What it is is a badly written and (for the most part) badly acted drama. It purports to be sympathetic to the victim of the rape but shoves the scene in our face. To be totally honest however, Hemingway's acting is so bad in that sequence that it loses any real impact it might have had. The trial scenes were boring and predictable. And the movie just went too far when 15 year old Mariel is raped (thankfully that wasn't shown). I do admit though that it did lead to a great ending when Margaux grabs a gun and shoots Sarandon dead. But seriously--having a young girl raped is just revolting.<br /><br />Acting doesn't help. For instance, Margaux was no actress. She was certainly a beautiful woman (and an actual model I believe) but her acting left a lot to be desired. It lessens the film. Mariel was just OK but this was one of her first films. Sarandon does what he can as the rapist. He wasn't bad but the terrible script worked against him.<br /><br />I do remember hearing that at a screening of this back in 1976 some women stood up and cheered when Sarandon was killed so maybe this works for some people. I found this boring, simplistic and REALLY sick. A 1 all the way.\"\n",
            " b\"A well-made run-of-the-mill movie with a tragic ending. Pluses: The way the story moves - begins with Soorya struggling to live followed by a long flashback about why he's there. The Music. A disinterested look at the life of policemen. Minuses: The violence and the gore, but I guess they add to the realistic effects. Still, having people's heads chopped off and sent in boxes and sacks could have been avoided.<br /><br />No complaints - 7/10\"\n",
            " b'The team of Merian Cooper and Ernest Schoedsack produced a documentary of 50,000 Bakhtiari people and their animals on the Summer migration to winter grazing. The basic worth of this film today is as a time capsule of a \"forgotten people\" and how they lived during what we in the West knew as the \"roaring twenties.\" A more drastic contrast could not be imagined. Raging river and barefoot mountain crossings are brutally realistic and the animals that disappear under the water do in fact die. To make sure that the audience of the time believed that the story took place, a signed certificate of authenticity is offered up at the end. The version that I saw had fascinating Iranian music that can stand alone and be appreciated without the film. Having said all this, the film is probably of more value to the anthropologist than the casual viewer in search of a good evening\\'s entertainment. The crew had just barely sufficient stock to take the shots that they recorded and there is no fancy camera work resulting from multiple re-takes. The Western inter-titles detract from the experience but are in fact a part of the record since they demonstrate how Hollywood tried to put their spin on the lives of an indigenous peoples lives so that they would be appreciated by the audience of the day. Off-duty entertainment by desert police becomes a \"policeman\\'s ball.\" The producers went on to make the docu-drama Chang (1927) and the totally commercial King Kong (1933). The migration theme is used again in People of the Wind (1976) and in Himalaya (1999). Recommended for those who know in advance what they are getting into -- and then highly recommended for them.'\n",
            " b'Though I\\'d heard that \"Cama de Gato\" was the worst Brazilian movie of the decade, I watched it giving it a chance; after all, first-time director/producer/writer Alexandre Stockler managed to make his debut feature (shot in video) for just US$ 4,000 and -- though it looks even cheaper -- I can\\'t begin to imagine all he went through to finally get it exhibited in theaters with no big sponsors or production companies behind it (then as I watched it I realized why). But whatever chances you\\'re ready to give to \"Cama de Gato\", they shrink to zero within 10 minutes: it\\'s an unbelievably preposterous, verbose, ideologically fanatical and technically catastrophic attempt to portray Brazilian upper-middle class youth as a bunch of spoiled neo-Nazis hooked on bad sex, drugs and violence (and they\\'re made to look like closeted gays too), made with no visible trace of talent, imagination, expertise or notion of structure. Visually and aurally, it recalls the worst amateur stuff you can find on YouTube -- only here it lasts NINETY TWO (count\\'em) minutes of unrelenting hysteria and clumsiness, and it\\'s not even funny-bad.<br /><br />We\\'ve all seen the story before: bored young guys want to have fun, go partying, take drugs and everything goes wrong -- there\\'s gang-rape, spanking, murder, the accidental death (falling down the staircase!!) of the mother of one of the boys, culminating with the boys deciding to burn the corpses of the girl and the mother in a garbage landfill. Moral and literal garbage, get it? The film is heavily influenced by Larry Clark (especially \"Kids\" and \"Bully\"), but Clark\\'s films -- though also moralist and sexploitative -- are high-class masterworks compared to this crap.<br /><br />I don\\'t think there was ever such monomaniacal drive in a filmmaker to stick his ideas down the audience\\'s throat: Stockler grabs us by the collar and tries to force his non-stop moralist rant into our brains by repetition and exhaustion -- you DO get numb-minded with so much babbling, yelling, inept direction, shaky camera and terrible acting going on. Stockler doesn\\'t care a bit about technique (the quality of the images, framing, sound recording, soundtrack songs, dialog, sets, editing, etc is uniformly appalling), but he\\'s a narcissistic control-freak: he anticipates the criticisms he\\'s bound to get by adding subtitles with smartie/cutie comments, and by making the protagonists comment at one point how far-fetched and phony it all is (I could relate to THAT). <br /><br />Despite his megalomaniac ambitions, Stockler seems incapable of giving us a minimum of visual or narrative structure -- he can\\'t even decide if he wants gritty realism (hand-held video camera etc) or stylization (repetition of scenes, use of alternate takes, etc). Damn, he can\\'t even decide WHERE to put his camera (there\\'s use of subjective camera for the THREE leads)! The dialog features some of the most stupefyingly banal verbosity ever; the plot exists simply to justify the director\\'s profound hatred for his characters and what they stand for. All you see is a filmmaker being hateful, preachy, condemning, moralizing without the benefit of a minimum of talent (or technique) to go with it.<br /><br />It\\'s very disappointing to find Caio Blat in this mess. Certainly one of the most promising young film actors in Brazil, with his sleepy-eyed puppy dog looks and emotional edge that often recall Sal Mineo\\'s, Blat can be highly effective under good direction (as in \"Carandiru\", \"Lavoura Arcaica\", \"Proibido Proibir\"). Here, he\\'s told to go over the top and he has to play with some of the most embarrassingly under-equipped \"actors\" in recent memory. He also enters the risky realm of graphic sexploitation scenes (so goddawful they look rather like web-cam porn).<br /><br />The film opens and ends with real interviews with \"typical\" (?) middle-class youth -- Stockler wants us to take those interviews as \"proof\" of what he\\'s trying to preach in fiction. But he blatantly despises and makes fun of his interviewees, selecting a highlight of abject, racist, sexist, stupid statements (which only shows assholes exist everywhere). Stockler wants to prove that Brazilian middle-class youths are ALL present or future fascists BECAUSE they\\'re middle-class and enjoy recreational drugs (is he saying all neo-fascists are on drugs?? Or that drugs potentialize fascist behavior?? I couldn\\'t tell). <br /><br />With its dogmatic self-righteousness, headache-inducing technique and mind-bending boredom, \"Cama de Gato\" is bad for a 1,000 reasons but, above all, it\\'s harmful in a very insidious manner: it gives detractors of Brazilian cinema a powerful case of argument. \"Cama de Gato\" is best unwatched, unmentioned, buried and forgotten.'] \n",
            " label:\n",
            "[0 0 1 0 1 1 1 1 1 0 1 1 0 1 1 1 0 0 0 0 0 0 1 1 0 1 1 0 1 1 0 1 0 1 0 1 1\n",
            " 0 1 1 0 1 1 0 0 0 0 1 0 1 0 0 1 1 0 1 1 1 0 1 0 1 1 0] \n",
            "\n",
            "label:\n",
            "64 \n",
            "\n"
          ]
        }
      ]
    },
    {
      "cell_type": "code",
      "source": [
        "# text encoding\n",
        "encoder = tf.keras.layers.TextVectorization(max_tokens= Config.VOCAB_SIZE)\n",
        "encoder.adapt(train_ds.map( lambda text, label:text)) #adapting our train data to encoder"
      ],
      "metadata": {
        "id": "CqGqwBEDqE9M"
      },
      "execution_count": 17,
      "outputs": []
    },
    {
      "cell_type": "code",
      "source": [
        "# first 20 tokens\n",
        "vocab = np.array(encoder.get_vocabulary())\n",
        "vocab[:40]"
      ],
      "metadata": {
        "colab": {
          "base_uri": "https://localhost:8080/"
        },
        "id": "CdkPkMoqu1C6",
        "outputId": "f990a074-4a91-4d70-dd0c-d44a5f1075cc"
      },
      "execution_count": 19,
      "outputs": [
        {
          "output_type": "execute_result",
          "data": {
            "text/plain": [
              "array(['', '[UNK]', 'the', 'and', 'a', 'of', 'to', 'is', 'in', 'it', 'i',\n",
              "       'this', 'that', 'br', 'was', 'as', 'for', 'with', 'movie', 'but',\n",
              "       'film', 'on', 'not', 'you', 'are', 'his', 'have', 'he', 'be',\n",
              "       'one', 'its', 'at', 'all', 'by', 'an', 'they', 'from', 'who', 'so',\n",
              "       'like'], dtype='<U14')"
            ]
          },
          "metadata": {},
          "execution_count": 19
        }
      ]
    },
    {
      "cell_type": "code",
      "source": [
        "# note: [UNK] represents unknown texts or letters"
      ],
      "metadata": {
        "id": "PIQi-I9HvJyP"
      },
      "execution_count": 20,
      "outputs": []
    },
    {
      "cell_type": "code",
      "source": [
        "encoder(example.numpy()[:3])"
      ],
      "metadata": {
        "colab": {
          "base_uri": "https://localhost:8080/"
        },
        "id": "QqcqvDbjxPpF",
        "outputId": "ca585b9e-c0a1-4241-93a3-bf8a0e44c438"
      },
      "execution_count": 22,
      "outputs": [
        {
          "output_type": "execute_result",
          "data": {
            "text/plain": [
              "<tf.Tensor: shape=(3, 165), dtype=int64, numpy=\n",
              "array([[  2, 198,   1, 204,   5,   1,   7,   4, 350,   5,   2, 533,  30,\n",
              "          1,   1,   1,  17,  47,   1, 132,   3,  48,   3, 195, 203,   1,\n",
              "        134, 355,   1, 810,   9,   1,  80,  30,  41,   2, 238,   5, 151,\n",
              "         35, 116,   1,   1,   1,   1, 666, 202,   2, 247,   1,  85,   1,\n",
              "        963,  50,   1, 435,   8,   2,   1, 801, 572, 572, 297,   3,   1,\n",
              "          8, 349, 142,   4,   1,   3,   1,   1,  72,  76,  11,   1,   1,\n",
              "         18,  12,   1,   2,   1,  46,   5,   2,  64,   1,   8,   1,   1,\n",
              "         15,   2,   1,   1, 127,   2,   1,   1,   1,   3,   1,   2, 219,\n",
              "        151, 187,   6,   1, 680,   6,  68,   1,   1,   2,   1,   5,   2,\n",
              "          1,   1,   1,   3, 326, 870,   1, 972,  15,   4, 386, 444,   7,\n",
              "          1, 572,  10,  41, 175, 373, 134,   2,   1, 117,  11,  80,  35,\n",
              "        518,  67,   2,   1,   6,   2,  64,   3,  96,  26,  91, 234,  52,\n",
              "        276, 234,  33,   1, 790,   9, 159,  57, 278],\n",
              "       [142, 147,   9, 150,  21,   1,   1, 244,   1,   3,  10, 217, 130,\n",
              "         11,   7,   4, 638,   1,  57, 112, 303, 100,   1,  10, 378,  37,\n",
              "         91,  11,   1,  13,  11,  14,   4, 375, 564,   5,   2,   1,   6,\n",
              "         94,  47,  52, 276,  21,   2,   1,   5,   2,  20, 597,   2,  20,\n",
              "         14,  85,   8,   1,  51,   9, 366,  46,  19,   2,   1,  13,  47,\n",
              "        211,  23,  69,  68,  87,   1,   2, 406,  24,   8,   2,   1,   5,\n",
              "          2, 102,  10, 378, 117,  35, 157, 997, 283,   6, 894,  12,  14,\n",
              "         12,   1,   1,  31,   2,   1,  11,   7,  57,   1,  13,   2,  20,\n",
              "         14,   2,   1,   2, 204,   1,   0,   0,   0,   0,   0,   0,   0,\n",
              "          0,   0,   0,   0,   0,   0,   0,   0,   0,   0,   0,   0,   0,\n",
              "          0,   0,   0,   0,   0,   0,   0,   0,   0,   0,   0,   0,   0,\n",
              "          0,   0,   0,   0,   0,   0,   0,   0,   0,   0,   0,   0,   0,\n",
              "          0,   0,   0,   0,   0,   0,   0,   0,   0],\n",
              "       [  4,   1,  43,   1,   2,   1, 526,  36,   1, 660,  36,   1,   1,\n",
              "         24, 505,   1, 505, 356,   2,  86,  29,  16, 454, 505, 334,   6,\n",
              "        130,   6,   1,  72,  26,  67,  52,   1,  71,  23,   3,  23,   1,\n",
              "          2,   1, 505,  63, 903,  19, 529,   1,   3, 218,  10,  63, 434,\n",
              "          2,   1,   1, 925, 421,   5,   4, 365,   8,   1, 767,  12, 254,\n",
              "          1, 695,  24,   1,   1,   1,   1,   1,   1,   8, 806,   3,   1,\n",
              "          1, 162, 764,   1,   1, 450, 384, 262,   6, 262,   1,   3,   1,\n",
              "          1,  34,   1,   1,   1, 252,   1,   1,   6,   1,   2, 170,   1,\n",
              "        912,   1,   1,  10, 237,  63,   1,   6,  68,  12, 106,   1, 405,\n",
              "         11,  18,   9, 265,  12,  72,  42,  35,  10, 237, 124,   1,  19,\n",
              "        567,   8,   1,  16,   1, 148,  24, 124, 899,  33,  81,   1,   3,\n",
              "        491,   6, 882, 495,   3, 986,   1,   5, 254,   1,  39,  72, 139,\n",
              "          8,   4,   1,   0,   0,   0,   0,   0,   0]])>"
            ]
          },
          "metadata": {},
          "execution_count": 22
        }
      ]
    },
    {
      "cell_type": "code",
      "source": [
        "embedding_layer = tf.keras.layers.Embedding(input_dim = len(encoder.get_vocabulary()), \n",
        "                                           output_dim = Config.OUTPUT_DIM, \n",
        "                                           mask_zero = True)\n",
        "# MASKING handles the variable sequences length\n",
        "# makes use of: \n",
        "# start of sentence, padding, end of data"
      ],
      "metadata": {
        "id": "tGKEvbzmxeLC"
      },
      "execution_count": 28,
      "outputs": []
    },
    {
      "cell_type": "code",
      "source": [
        "Layers = [encoder,\n",
        "          embedding_layer,\n",
        "          tf.keras.layers.Bidirectional(\n",
        "              tf.keras.layers.LSTM(64)\n",
        "          ),tf.keras.layers.Dense(64, activation = \"relu\"),\n",
        "          tf.keras.layers.Dense(1)\n",
        "          ]\n",
        "\n",
        "model = tf.keras.Sequential(Layers)"
      ],
      "metadata": {
        "id": "STdmLP910GwC"
      },
      "execution_count": 25,
      "outputs": []
    },
    {
      "cell_type": "code",
      "source": [
        "model.summary()"
      ],
      "metadata": {
        "colab": {
          "base_uri": "https://localhost:8080/"
        },
        "id": "xOK0wox91awK",
        "outputId": "6da12c60-9918-4e0c-a528-380c6a01e61d"
      },
      "execution_count": 26,
      "outputs": [
        {
          "output_type": "stream",
          "name": "stdout",
          "text": [
            "Model: \"sequential\"\n",
            "_________________________________________________________________\n",
            " Layer (type)                Output Shape              Param #   \n",
            "=================================================================\n",
            " text_vectorization (TextVec  (None, None)             0         \n",
            " torization)                                                     \n",
            "                                                                 \n",
            " embedding (Embedding)       (None, None, 64)          64000     \n",
            "                                                                 \n",
            " bidirectional (Bidirectiona  (None, 128)              66048     \n",
            " l)                                                              \n",
            "                                                                 \n",
            " dense (Dense)               (None, 64)                8256      \n",
            "                                                                 \n",
            " dense_1 (Dense)             (None, 1)                 65        \n",
            "                                                                 \n",
            "=================================================================\n",
            "Total params: 138,369\n",
            "Trainable params: 138,369\n",
            "Non-trainable params: 0\n",
            "_________________________________________________________________\n"
          ]
        }
      ]
    },
    {
      "cell_type": "code",
      "source": [
        "for layer in model.layers:\n",
        "  print(layer.supports_masking)"
      ],
      "metadata": {
        "colab": {
          "base_uri": "https://localhost:8080/"
        },
        "id": "B9Cbuk4c1gmS",
        "outputId": "9a99b1dd-1024-4fbb-e46b-0afbacfb3e25"
      },
      "execution_count": 27,
      "outputs": [
        {
          "output_type": "stream",
          "name": "stdout",
          "text": [
            "False\n",
            "True\n",
            "True\n",
            "True\n",
            "True\n"
          ]
        }
      ]
    },
    {
      "cell_type": "markdown",
      "source": [
        "ABOVE WE CHECKED WHETHER THE LAYERS SUPPORTS MASKING"
      ],
      "metadata": {
        "id": "vZjUNvBE3i9B"
      }
    },
    {
      "cell_type": "code",
      "source": [
        "model.compile(\n",
        "    loss =  tf.keras.losses.BinaryCrossentropy(from_logits= True),\n",
        "    optimizer =  tf.keras.optimizers.Adam(1e-4),\n",
        "    metrics = [\"accuracy\"]\n",
        "\n",
        ")"
      ],
      "metadata": {
        "id": "xJ4gPc_u3gb1"
      },
      "execution_count": 29,
      "outputs": []
    },
    {
      "cell_type": "markdown",
      "source": [
        "At the end of a neural network if we dont use an activation funtion there will be raw outputs which are the logits . when we use softmax or any other this is not the case"
      ],
      "metadata": {
        "id": "I650FyXB4ZdP"
      }
    },
    {
      "cell_type": "code",
      "source": [
        "# for callbacks\n",
        "\n",
        "import time\n",
        "time.asctime().replace(' ', \"_\").replace(\":\", \"\")"
      ],
      "metadata": {
        "colab": {
          "base_uri": "https://localhost:8080/",
          "height": 36
        },
        "id": "nNDp2TI-4Y4w",
        "outputId": "03e4b2c4-0bb7-4769-a103-0ef90c179f82"
      },
      "execution_count": 30,
      "outputs": [
        {
          "output_type": "execute_result",
          "data": {
            "text/plain": [
              "'Wed_Dec_21_182139_2022'"
            ],
            "application/vnd.google.colaboratory.intrinsic+json": {
              "type": "string"
            }
          },
          "metadata": {},
          "execution_count": 30
        }
      ]
    },
    {
      "cell_type": "code",
      "source": [
        "def callbacks(base_dir = \".\"):\n",
        "  # tensorboard_callback\n",
        "  unique_log = time.asctime().replace(' ', \"_\").replace(\":\", \"\")\n",
        "  tensorboard_log_dir = od.path.join(Config.TB_ROOT_LOG_DIR, unique_log)\n",
        "\n",
        "  os.makedirs(tensorboard_log_dir, exist_ok = True)\n",
        "\n",
        "  tb_cb = tf.keras.callbacks.TensorBoard(log_dir = tensorboard_log_dir )\n"
      ],
      "metadata": {
        "id": "NIYm0z0g6gy1"
      },
      "execution_count": null,
      "outputs": []
    }
  ]
}